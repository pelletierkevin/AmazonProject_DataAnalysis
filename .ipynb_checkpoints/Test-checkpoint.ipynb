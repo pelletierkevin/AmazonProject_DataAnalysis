{
 "cells": [
  {
   "cell_type": "markdown",
   "metadata": {},
   "source": [
    "<h1>Handling data text</h1>"
   ]
  },
  {
   "cell_type": "markdown",
   "metadata": {},
   "source": [
    "For the first milestone, we first pre processed the data by filtering the eco-friendly product from the metadata. Then for each product we gather its respective reviews.\n",
    "\n",
    "The next step is to dwell on the product ratings and reviews text analysis.\n"
   ]
  },
  {
   "cell_type": "markdown",
   "metadata": {},
   "source": [
    "**TA Feedback :**\n",
    "Observe the average rating of \"bio\" versus \"non-bio\" products. For example, you could match similar items (pairs of bio/non-bio items, think about propensity scores) with similar levels of popularity, and measure they average ratings."
   ]
  },
  {
   "cell_type": "markdown",
   "metadata": {},
   "source": [
    "**Import**"
   ]
  },
  {
   "cell_type": "code",
   "execution_count": 1,
   "metadata": {},
   "outputs": [],
   "source": [
    "import pandas as pd\n",
    "import numpy as np\n",
    "import scipy as sp\n",
    "import matplotlib.pyplot as plt\n",
    "import math\n",
    "from datetime import datetime\n",
    "\n",
    "\n",
    "%matplotlib inline"
   ]
  },
  {
   "cell_type": "code",
   "execution_count": 2,
   "metadata": {},
   "outputs": [],
   "source": [
    "import findspark\n",
    "findspark.init()\n",
    "import pyspark\n",
    "\n",
    "from pyspark.sql.types import DateType\n",
    "from pyspark.sql.types import TimestampType\n",
    "from pyspark.sql.functions import *\n",
    "from pyspark.sql import Window\n",
    "from pyspark.sql.types import *\n",
    "from pyspark.sql import *\n",
    "from pyspark.sql import SQLContext\n",
    "import pyspark.sql.functions as sqlf\n",
    "\n",
    "spark = SparkSession.builder.getOrCreate()\n",
    "sc = spark.sparkContext\n",
    "sqlContext = SQLContext(sc)"
   ]
  },
  {
   "cell_type": "markdown",
   "metadata": {},
   "source": [
    "The data set bellow loaded contains the eco-friendly patio lown garden products with their respective revies."
   ]
  },
  {
   "cell_type": "code",
   "execution_count": 3,
   "metadata": {},
   "outputs": [],
   "source": [
    "#reviews = spark.read.parquet(\"Home_and_Kitchen_joined.parquet\")\n",
    "#home_datacleaned = spark.read.parquet(\"meta_HomeKitchen.parquet\")\n",
    "#home_reviews = spark.read.parquet(\"reviews_Home_and_Kitchen.parquet\")\n",
    "reviews = spark.read.parquet(\"Home_and_Kitchen_joined.parquet\")"
   ]
  },
  {
   "cell_type": "code",
   "execution_count": 4,
   "metadata": {},
   "outputs": [],
   "source": [
    "reviews = reviews.toPandas()\n",
    "#home_reviews = home_reviews.toPandas()"
   ]
  },
  {
   "cell_type": "code",
   "execution_count": 5,
   "metadata": {},
   "outputs": [],
   "source": [
    "# Some items have NAN prices \n",
    "reviews = reviews.dropna(subset=['price'])"
   ]
  },
  {
   "cell_type": "code",
   "execution_count": 6,
   "metadata": {},
   "outputs": [
    {
     "data": {
      "text/html": [
       "<div>\n",
       "<style scoped>\n",
       "    .dataframe tbody tr th:only-of-type {\n",
       "        vertical-align: middle;\n",
       "    }\n",
       "\n",
       "    .dataframe tbody tr th {\n",
       "        vertical-align: top;\n",
       "    }\n",
       "\n",
       "    .dataframe thead th {\n",
       "        text-align: right;\n",
       "    }\n",
       "</style>\n",
       "<table border=\"1\" class=\"dataframe\">\n",
       "  <thead>\n",
       "    <tr style=\"text-align: right;\">\n",
       "      <th></th>\n",
       "      <th>asin</th>\n",
       "      <th>brand</th>\n",
       "      <th>category</th>\n",
       "      <th>description</th>\n",
       "      <th>price</th>\n",
       "      <th>salesRank</th>\n",
       "      <th>title</th>\n",
       "      <th>helpful</th>\n",
       "      <th>overall</th>\n",
       "      <th>reviewText</th>\n",
       "      <th>reviewTime</th>\n",
       "      <th>reviewerID</th>\n",
       "      <th>reviewerName</th>\n",
       "      <th>summary</th>\n",
       "      <th>unixReviewTime</th>\n",
       "    </tr>\n",
       "  </thead>\n",
       "  <tbody>\n",
       "    <tr>\n",
       "      <th>0</th>\n",
       "      <td>B00004SU18</td>\n",
       "      <td>Brita</td>\n",
       "      <td>Home &amp; Kitchen</td>\n",
       "      <td>Brita Pitcher Replacement Filters are universa...</td>\n",
       "      <td>14.99</td>\n",
       "      <td>NaN</td>\n",
       "      <td>Brita 35503 Pitcher Replacement Filters, 3-Pack</td>\n",
       "      <td>[0, 0]</td>\n",
       "      <td>5.0</td>\n",
       "      <td>as described.</td>\n",
       "      <td>07 16, 2014</td>\n",
       "      <td>A3AU8JGEDLJ5BW</td>\n",
       "      <td>None</td>\n",
       "      <td>Five Stars</td>\n",
       "      <td>1405468800</td>\n",
       "    </tr>\n",
       "    <tr>\n",
       "      <th>1</th>\n",
       "      <td>B00004SU18</td>\n",
       "      <td>Brita</td>\n",
       "      <td>Home &amp; Kitchen</td>\n",
       "      <td>Brita Pitcher Replacement Filters are universa...</td>\n",
       "      <td>14.99</td>\n",
       "      <td>NaN</td>\n",
       "      <td>Brita 35503 Pitcher Replacement Filters, 3-Pack</td>\n",
       "      <td>[0, 0]</td>\n",
       "      <td>4.0</td>\n",
       "      <td>Best</td>\n",
       "      <td>07 15, 2014</td>\n",
       "      <td>A1HXJZASU1OAIB</td>\n",
       "      <td>None</td>\n",
       "      <td>Four Stars</td>\n",
       "      <td>1405382400</td>\n",
       "    </tr>\n",
       "    <tr>\n",
       "      <th>2</th>\n",
       "      <td>B00004SU18</td>\n",
       "      <td>Brita</td>\n",
       "      <td>Home &amp; Kitchen</td>\n",
       "      <td>Brita Pitcher Replacement Filters are universa...</td>\n",
       "      <td>14.99</td>\n",
       "      <td>NaN</td>\n",
       "      <td>Brita 35503 Pitcher Replacement Filters, 3-Pack</td>\n",
       "      <td>[0, 0]</td>\n",
       "      <td>4.0</td>\n",
       "      <td>Does its job.</td>\n",
       "      <td>07 20, 2014</td>\n",
       "      <td>A2KSYUQTVZTRQW</td>\n",
       "      <td>None</td>\n",
       "      <td>Four Stars</td>\n",
       "      <td>1405814400</td>\n",
       "    </tr>\n",
       "  </tbody>\n",
       "</table>\n",
       "</div>"
      ],
      "text/plain": [
       "         asin  brand        category  \\\n",
       "0  B00004SU18  Brita  Home & Kitchen   \n",
       "1  B00004SU18  Brita  Home & Kitchen   \n",
       "2  B00004SU18  Brita  Home & Kitchen   \n",
       "\n",
       "                                         description  price  salesRank  \\\n",
       "0  Brita Pitcher Replacement Filters are universa...  14.99        NaN   \n",
       "1  Brita Pitcher Replacement Filters are universa...  14.99        NaN   \n",
       "2  Brita Pitcher Replacement Filters are universa...  14.99        NaN   \n",
       "\n",
       "                                             title helpful  overall  \\\n",
       "0  Brita 35503 Pitcher Replacement Filters, 3-Pack  [0, 0]      5.0   \n",
       "1  Brita 35503 Pitcher Replacement Filters, 3-Pack  [0, 0]      4.0   \n",
       "2  Brita 35503 Pitcher Replacement Filters, 3-Pack  [0, 0]      4.0   \n",
       "\n",
       "      reviewText   reviewTime      reviewerID reviewerName     summary  \\\n",
       "0  as described.  07 16, 2014  A3AU8JGEDLJ5BW         None  Five Stars   \n",
       "1           Best  07 15, 2014  A1HXJZASU1OAIB         None  Four Stars   \n",
       "2  Does its job.  07 20, 2014  A2KSYUQTVZTRQW         None  Four Stars   \n",
       "\n",
       "   unixReviewTime  \n",
       "0      1405468800  \n",
       "1      1405382400  \n",
       "2      1405814400  "
      ]
     },
     "execution_count": 6,
     "metadata": {},
     "output_type": "execute_result"
    }
   ],
   "source": [
    "reviews.head(3)"
   ]
  },
  {
   "cell_type": "code",
   "execution_count": 7,
   "metadata": {},
   "outputs": [
    {
     "data": {
      "text/html": [
       "<div>\n",
       "<style scoped>\n",
       "    .dataframe tbody tr th:only-of-type {\n",
       "        vertical-align: middle;\n",
       "    }\n",
       "\n",
       "    .dataframe tbody tr th {\n",
       "        vertical-align: top;\n",
       "    }\n",
       "\n",
       "    .dataframe thead tr th {\n",
       "        text-align: left;\n",
       "    }\n",
       "\n",
       "    .dataframe thead tr:last-of-type th {\n",
       "        text-align: right;\n",
       "    }\n",
       "</style>\n",
       "<table border=\"1\" class=\"dataframe\">\n",
       "  <thead>\n",
       "    <tr>\n",
       "      <th></th>\n",
       "      <th colspan=\"2\" halign=\"left\">price</th>\n",
       "      <th colspan=\"2\" halign=\"left\">salesRank</th>\n",
       "      <th colspan=\"2\" halign=\"left\">overall</th>\n",
       "      <th colspan=\"2\" halign=\"left\">unixReviewTime</th>\n",
       "    </tr>\n",
       "    <tr>\n",
       "      <th></th>\n",
       "      <th>count</th>\n",
       "      <th>mean</th>\n",
       "      <th>count</th>\n",
       "      <th>mean</th>\n",
       "      <th>count</th>\n",
       "      <th>mean</th>\n",
       "      <th>count</th>\n",
       "      <th>mean</th>\n",
       "    </tr>\n",
       "    <tr>\n",
       "      <th>asin</th>\n",
       "      <th></th>\n",
       "      <th></th>\n",
       "      <th></th>\n",
       "      <th></th>\n",
       "      <th></th>\n",
       "      <th></th>\n",
       "      <th></th>\n",
       "      <th></th>\n",
       "    </tr>\n",
       "  </thead>\n",
       "  <tbody>\n",
       "    <tr>\n",
       "      <th>7509004195</th>\n",
       "      <td>3</td>\n",
       "      <td>34.990002</td>\n",
       "      <td>0</td>\n",
       "      <td>NaN</td>\n",
       "      <td>3</td>\n",
       "      <td>4.333333</td>\n",
       "      <td>3</td>\n",
       "      <td>1.340842e+09</td>\n",
       "    </tr>\n",
       "    <tr>\n",
       "      <th>9178894395</th>\n",
       "      <td>84</td>\n",
       "      <td>5.720000</td>\n",
       "      <td>0</td>\n",
       "      <td>NaN</td>\n",
       "      <td>84</td>\n",
       "      <td>4.702381</td>\n",
       "      <td>84</td>\n",
       "      <td>1.390135e+09</td>\n",
       "    </tr>\n",
       "    <tr>\n",
       "      <th>B00004SD5Q</th>\n",
       "      <td>5</td>\n",
       "      <td>19.990000</td>\n",
       "      <td>0</td>\n",
       "      <td>NaN</td>\n",
       "      <td>5</td>\n",
       "      <td>3.800000</td>\n",
       "      <td>5</td>\n",
       "      <td>1.308614e+09</td>\n",
       "    </tr>\n",
       "    <tr>\n",
       "      <th>B00004SU18</th>\n",
       "      <td>1607</td>\n",
       "      <td>14.990000</td>\n",
       "      <td>0</td>\n",
       "      <td>NaN</td>\n",
       "      <td>1607</td>\n",
       "      <td>4.411325</td>\n",
       "      <td>1607</td>\n",
       "      <td>1.348613e+09</td>\n",
       "    </tr>\n",
       "    <tr>\n",
       "      <th>B00004SUHT</th>\n",
       "      <td>447</td>\n",
       "      <td>89.949997</td>\n",
       "      <td>0</td>\n",
       "      <td>NaN</td>\n",
       "      <td>447</td>\n",
       "      <td>4.136465</td>\n",
       "      <td>447</td>\n",
       "      <td>1.321402e+09</td>\n",
       "    </tr>\n",
       "  </tbody>\n",
       "</table>\n",
       "</div>"
      ],
      "text/plain": [
       "           price            salesRank      overall           unixReviewTime  \\\n",
       "           count       mean     count mean   count      mean          count   \n",
       "asin                                                                          \n",
       "7509004195     3  34.990002         0  NaN       3  4.333333              3   \n",
       "9178894395    84   5.720000         0  NaN      84  4.702381             84   \n",
       "B00004SD5Q     5  19.990000         0  NaN       5  3.800000              5   \n",
       "B00004SU18  1607  14.990000         0  NaN    1607  4.411325           1607   \n",
       "B00004SUHT   447  89.949997         0  NaN     447  4.136465            447   \n",
       "\n",
       "                          \n",
       "                    mean  \n",
       "asin                      \n",
       "7509004195  1.340842e+09  \n",
       "9178894395  1.390135e+09  \n",
       "B00004SD5Q  1.308614e+09  \n",
       "B00004SU18  1.348613e+09  \n",
       "B00004SUHT  1.321402e+09  "
      ]
     },
     "execution_count": 7,
     "metadata": {},
     "output_type": "execute_result"
    }
   ],
   "source": [
    "ess = reviews.groupby('asin').agg(['count','mean'])\n",
    "ess.head()"
   ]
  },
  {
   "cell_type": "code",
   "execution_count": 8,
   "metadata": {},
   "outputs": [],
   "source": [
    "#ess['nb reviews'] = ess[('overall','count')]\n",
    "#ess=ess.drop(columns=[('price','count')])\n",
    "#ess=ess.drop(columns=[('overall','count')])\n",
    "#ess=ess.drop(columns=[('salesRank','count')])\n",
    "#ess=ess.drop(columns=['unixReviewTime'])\n",
    "\n",
    "#ess = ess.rename(columns={('price','mean'): 'price', ('salesRank','mean'): 'salesRank', ('overall','mean'): 'overall'})\n"
   ]
  },
  {
   "cell_type": "code",
   "execution_count": null,
   "metadata": {},
   "outputs": [],
   "source": []
  },
  {
   "cell_type": "code",
   "execution_count": 9,
   "metadata": {},
   "outputs": [],
   "source": [
    "overall = reviews.groupby('asin').agg('mean')"
   ]
  },
  {
   "cell_type": "code",
   "execution_count": 10,
   "metadata": {
    "scrolled": true
   },
   "outputs": [
    {
     "data": {
      "text/html": [
       "<div>\n",
       "<style scoped>\n",
       "    .dataframe tbody tr th:only-of-type {\n",
       "        vertical-align: middle;\n",
       "    }\n",
       "\n",
       "    .dataframe tbody tr th {\n",
       "        vertical-align: top;\n",
       "    }\n",
       "\n",
       "    .dataframe thead th {\n",
       "        text-align: right;\n",
       "    }\n",
       "</style>\n",
       "<table border=\"1\" class=\"dataframe\">\n",
       "  <thead>\n",
       "    <tr style=\"text-align: right;\">\n",
       "      <th></th>\n",
       "      <th>price</th>\n",
       "      <th>salesRank</th>\n",
       "      <th>overall</th>\n",
       "      <th>unixReviewTime</th>\n",
       "    </tr>\n",
       "  </thead>\n",
       "  <tbody>\n",
       "    <tr>\n",
       "      <th>count</th>\n",
       "      <td>4875.000000</td>\n",
       "      <td>2.134000e+03</td>\n",
       "      <td>4875.000000</td>\n",
       "      <td>4.875000e+03</td>\n",
       "    </tr>\n",
       "    <tr>\n",
       "      <th>mean</th>\n",
       "      <td>74.140006</td>\n",
       "      <td>8.555553e+05</td>\n",
       "      <td>4.080446</td>\n",
       "      <td>1.368146e+09</td>\n",
       "    </tr>\n",
       "    <tr>\n",
       "      <th>std</th>\n",
       "      <td>132.148209</td>\n",
       "      <td>9.309550e+05</td>\n",
       "      <td>1.031744</td>\n",
       "      <td>3.321451e+07</td>\n",
       "    </tr>\n",
       "    <tr>\n",
       "      <th>min</th>\n",
       "      <td>0.010000</td>\n",
       "      <td>5.600000e+01</td>\n",
       "      <td>1.000000</td>\n",
       "      <td>1.093565e+09</td>\n",
       "    </tr>\n",
       "    <tr>\n",
       "      <th>25%</th>\n",
       "      <td>9.950000</td>\n",
       "      <td>1.684348e+05</td>\n",
       "      <td>3.666667</td>\n",
       "      <td>1.357258e+09</td>\n",
       "    </tr>\n",
       "    <tr>\n",
       "      <th>50%</th>\n",
       "      <td>23.760000</td>\n",
       "      <td>5.231405e+05</td>\n",
       "      <td>4.333333</td>\n",
       "      <td>1.375286e+09</td>\n",
       "    </tr>\n",
       "    <tr>\n",
       "      <th>75%</th>\n",
       "      <td>70.405003</td>\n",
       "      <td>1.249208e+06</td>\n",
       "      <td>5.000000</td>\n",
       "      <td>1.390435e+09</td>\n",
       "    </tr>\n",
       "    <tr>\n",
       "      <th>max</th>\n",
       "      <td>999.989990</td>\n",
       "      <td>5.314124e+06</td>\n",
       "      <td>5.000000</td>\n",
       "      <td>1.406074e+09</td>\n",
       "    </tr>\n",
       "  </tbody>\n",
       "</table>\n",
       "</div>"
      ],
      "text/plain": [
       "             price     salesRank      overall  unixReviewTime\n",
       "count  4875.000000  2.134000e+03  4875.000000    4.875000e+03\n",
       "mean     74.140006  8.555553e+05     4.080446    1.368146e+09\n",
       "std     132.148209  9.309550e+05     1.031744    3.321451e+07\n",
       "min       0.010000  5.600000e+01     1.000000    1.093565e+09\n",
       "25%       9.950000  1.684348e+05     3.666667    1.357258e+09\n",
       "50%      23.760000  5.231405e+05     4.333333    1.375286e+09\n",
       "75%      70.405003  1.249208e+06     5.000000    1.390435e+09\n",
       "max     999.989990  5.314124e+06     5.000000    1.406074e+09"
      ]
     },
     "execution_count": 10,
     "metadata": {},
     "output_type": "execute_result"
    }
   ],
   "source": [
    "overall.describe()"
   ]
  },
  {
   "cell_type": "code",
   "execution_count": 11,
   "metadata": {},
   "outputs": [
    {
     "data": {
      "text/plain": [
       "Text(0.5,1,'Overall')"
      ]
     },
     "execution_count": 11,
     "metadata": {},
     "output_type": "execute_result"
    },
    {
     "data": {
      "image/png": "[encoded data removed]",
      "text/plain": [
       "<Figure size 1440x360 with 3 Axes>"
      ]
     },
     "metadata": {},
     "output_type": "display_data"
    }
   ],
   "source": [
    "plt.figure(figsize=(20,5))\n",
    "\n",
    "# Price boxplot\n",
    "plt.subplot(1,3,1)\n",
    "plt.boxplot(overall['price'])\n",
    "plt.title('Price')\n",
    "\n",
    "# SalesRank plot\n",
    "plt.subplot(1,3,2)\n",
    "plt.boxplot(overall['price'],showfliers=False)\n",
    "plt.title('Price without outliers')\n",
    "\n",
    "# Overall\n",
    "plt.subplot(1,3,3)\n",
    "plt.boxplot(overall['overall'])\n",
    "plt.title('Overall')\n"
   ]
  },
  {
   "cell_type": "markdown",
   "metadata": {},
   "source": [
    "If we look at the possible values for the overall grades, it seems the value a discretes between 1 and 5. So for the next, we have to keep in mind that we are working with the continuous mean of overall from 1 to 5 and not the discrete values."
   ]
  },
  {
   "cell_type": "code",
   "execution_count": 12,
   "metadata": {},
   "outputs": [
    {
     "data": {
      "image/png": "[encoded data removed]",
      "text/plain": [
       "<Figure size 1152x432 with 2 Axes>"
      ]
     },
     "metadata": {},
     "output_type": "display_data"
    }
   ],
   "source": [
    "plt.figure(figsize=(16,6))\n",
    "\n",
    "plt.subplot(1,2,1);\n",
    "plt.scatter(overall.overall, overall.price)\n",
    "plt.xlabel('Overall');plt.ylabel('Price');\n",
    "\n",
    "plt.subplot(1,2,2);\n",
    "plt.scatter(overall.overall, overall.salesRank);\n",
    "plt.xlabel('Overall'); plt.ylabel('Rank');"
   ]
  },
  {
   "cell_type": "code",
   "execution_count": 13,
   "metadata": {},
   "outputs": [
    {
     "data": {
      "text/html": [
       "<div>\n",
       "<style scoped>\n",
       "    .dataframe tbody tr th:only-of-type {\n",
       "        vertical-align: middle;\n",
       "    }\n",
       "\n",
       "    .dataframe tbody tr th {\n",
       "        vertical-align: top;\n",
       "    }\n",
       "\n",
       "    .dataframe thead th {\n",
       "        text-align: right;\n",
       "    }\n",
       "</style>\n",
       "<table border=\"1\" class=\"dataframe\">\n",
       "  <thead>\n",
       "    <tr style=\"text-align: right;\">\n",
       "      <th></th>\n",
       "      <th>price</th>\n",
       "      <th>salesRank</th>\n",
       "      <th>overall</th>\n",
       "      <th>unixReviewTime</th>\n",
       "    </tr>\n",
       "    <tr>\n",
       "      <th>asin</th>\n",
       "      <th></th>\n",
       "      <th></th>\n",
       "      <th></th>\n",
       "      <th></th>\n",
       "    </tr>\n",
       "  </thead>\n",
       "  <tbody>\n",
       "    <tr>\n",
       "      <th>7509004195</th>\n",
       "      <td>34.990002</td>\n",
       "      <td>NaN</td>\n",
       "      <td>4.333333</td>\n",
       "      <td>1.340842e+09</td>\n",
       "    </tr>\n",
       "    <tr>\n",
       "      <th>9178894395</th>\n",
       "      <td>5.720000</td>\n",
       "      <td>NaN</td>\n",
       "      <td>4.702381</td>\n",
       "      <td>1.390135e+09</td>\n",
       "    </tr>\n",
       "    <tr>\n",
       "      <th>B00004SD5Q</th>\n",
       "      <td>19.990000</td>\n",
       "      <td>NaN</td>\n",
       "      <td>3.800000</td>\n",
       "      <td>1.308614e+09</td>\n",
       "    </tr>\n",
       "    <tr>\n",
       "      <th>B00004SU18</th>\n",
       "      <td>14.990000</td>\n",
       "      <td>NaN</td>\n",
       "      <td>4.411325</td>\n",
       "      <td>1.348613e+09</td>\n",
       "    </tr>\n",
       "    <tr>\n",
       "      <th>B00004SUHT</th>\n",
       "      <td>89.949997</td>\n",
       "      <td>NaN</td>\n",
       "      <td>4.136465</td>\n",
       "      <td>1.321402e+09</td>\n",
       "    </tr>\n",
       "  </tbody>\n",
       "</table>\n",
       "</div>"
      ],
      "text/plain": [
       "                price  salesRank   overall  unixReviewTime\n",
       "asin                                                      \n",
       "7509004195  34.990002        NaN  4.333333    1.340842e+09\n",
       "9178894395   5.720000        NaN  4.702381    1.390135e+09\n",
       "B00004SD5Q  19.990000        NaN  3.800000    1.308614e+09\n",
       "B00004SU18  14.990000        NaN  4.411325    1.348613e+09\n",
       "B00004SUHT  89.949997        NaN  4.136465    1.321402e+09"
      ]
     },
     "execution_count": 13,
     "metadata": {},
     "output_type": "execute_result"
    }
   ],
   "source": [
    "overall.head()"
   ]
  },
  {
   "cell_type": "code",
   "execution_count": 14,
   "metadata": {
    "scrolled": false
   },
   "outputs": [
    {
     "data": {
      "image/png": "[encoded data removed]",
      "text/plain": [
       "<Figure size 1152x432 with 2 Axes>"
      ]
     },
     "metadata": {},
     "output_type": "display_data"
    }
   ],
   "source": [
    "plt.figure(figsize=(16,6))\n",
    "\n",
    "plt.subplot(1,2,1);\n",
    "plt.scatter(overall['overall'].apply(lambda x: math.ceil(x)) , overall.price)\n",
    "plt.xlabel('Overall');plt.ylabel('Price');\n",
    "\n",
    "plt.subplot(1,2,2);\n",
    "plt.scatter(overall['overall'].apply(lambda x: math.ceil(x)), overall.salesRank);\n",
    "plt.xlabel('Overall'); plt.ylabel('Rank');"
   ]
  },
  {
   "cell_type": "code",
   "execution_count": 15,
   "metadata": {
    "scrolled": true
   },
   "outputs": [
    {
     "data": {
      "text/html": [
       "<div>\n",
       "<style scoped>\n",
       "    .dataframe tbody tr th:only-of-type {\n",
       "        vertical-align: middle;\n",
       "    }\n",
       "\n",
       "    .dataframe tbody tr th {\n",
       "        vertical-align: top;\n",
       "    }\n",
       "\n",
       "    .dataframe thead th {\n",
       "        text-align: right;\n",
       "    }\n",
       "</style>\n",
       "<table border=\"1\" class=\"dataframe\">\n",
       "  <thead>\n",
       "    <tr style=\"text-align: right;\">\n",
       "      <th></th>\n",
       "      <th>price</th>\n",
       "      <th>salesRank</th>\n",
       "      <th>overall</th>\n",
       "      <th>unixReviewTime</th>\n",
       "    </tr>\n",
       "  </thead>\n",
       "  <tbody>\n",
       "    <tr>\n",
       "      <th>price</th>\n",
       "      <td>1.000000</td>\n",
       "      <td>0.191098</td>\n",
       "      <td>-0.081254</td>\n",
       "      <td>0.010444</td>\n",
       "    </tr>\n",
       "    <tr>\n",
       "      <th>salesRank</th>\n",
       "      <td>0.191098</td>\n",
       "      <td>1.000000</td>\n",
       "      <td>-0.124674</td>\n",
       "      <td>-0.055047</td>\n",
       "    </tr>\n",
       "    <tr>\n",
       "      <th>overall</th>\n",
       "      <td>-0.081254</td>\n",
       "      <td>-0.124674</td>\n",
       "      <td>1.000000</td>\n",
       "      <td>0.061138</td>\n",
       "    </tr>\n",
       "    <tr>\n",
       "      <th>unixReviewTime</th>\n",
       "      <td>0.010444</td>\n",
       "      <td>-0.055047</td>\n",
       "      <td>0.061138</td>\n",
       "      <td>1.000000</td>\n",
       "    </tr>\n",
       "  </tbody>\n",
       "</table>\n",
       "</div>"
      ],
      "text/plain": [
       "                   price  salesRank   overall  unixReviewTime\n",
       "price           1.000000   0.191098 -0.081254        0.010444\n",
       "salesRank       0.191098   1.000000 -0.124674       -0.055047\n",
       "overall        -0.081254  -0.124674  1.000000        0.061138\n",
       "unixReviewTime  0.010444  -0.055047  0.061138        1.000000"
      ]
     },
     "execution_count": 15,
     "metadata": {},
     "output_type": "execute_result"
    }
   ],
   "source": [
    "overall.corr(method='pearson')"
   ]
  },
  {
   "cell_type": "markdown",
   "metadata": {},
   "source": [
    "Well, the plot already gave us the impression that there is no correlation between the price, sales rank and overall. We first thaught that I could be possible, because more expensive product can be high quality item thus have a better overall, and so for the sales rank.\n",
    "\n",
    "The next step is to now look deeper in the text reviews and see if we can extract sentiment analysis."
   ]
  },
  {
   "cell_type": "code",
   "execution_count": 16,
   "metadata": {},
   "outputs": [
    {
     "data": {
      "text/html": [
       "<div>\n",
       "<style scoped>\n",
       "    .dataframe tbody tr th:only-of-type {\n",
       "        vertical-align: middle;\n",
       "    }\n",
       "\n",
       "    .dataframe tbody tr th {\n",
       "        vertical-align: top;\n",
       "    }\n",
       "\n",
       "    .dataframe thead th {\n",
       "        text-align: right;\n",
       "    }\n",
       "</style>\n",
       "<table border=\"1\" class=\"dataframe\">\n",
       "  <thead>\n",
       "    <tr style=\"text-align: right;\">\n",
       "      <th></th>\n",
       "      <th>asin</th>\n",
       "      <th>brand</th>\n",
       "      <th>category</th>\n",
       "      <th>description</th>\n",
       "      <th>price</th>\n",
       "      <th>salesRank</th>\n",
       "      <th>title</th>\n",
       "      <th>helpful</th>\n",
       "      <th>overall</th>\n",
       "      <th>reviewText</th>\n",
       "      <th>reviewTime</th>\n",
       "      <th>reviewerID</th>\n",
       "      <th>reviewerName</th>\n",
       "      <th>summary</th>\n",
       "      <th>unixReviewTime</th>\n",
       "    </tr>\n",
       "  </thead>\n",
       "  <tbody>\n",
       "    <tr>\n",
       "      <th>0</th>\n",
       "      <td>B00004SU18</td>\n",
       "      <td>Brita</td>\n",
       "      <td>Home &amp; Kitchen</td>\n",
       "      <td>Brita Pitcher Replacement Filters are universa...</td>\n",
       "      <td>14.99</td>\n",
       "      <td>NaN</td>\n",
       "      <td>Brita 35503 Pitcher Replacement Filters, 3-Pack</td>\n",
       "      <td>[0, 0]</td>\n",
       "      <td>5.0</td>\n",
       "      <td>as described.</td>\n",
       "      <td>07 16, 2014</td>\n",
       "      <td>A3AU8JGEDLJ5BW</td>\n",
       "      <td>None</td>\n",
       "      <td>Five Stars</td>\n",
       "      <td>1405468800</td>\n",
       "    </tr>\n",
       "    <tr>\n",
       "      <th>1</th>\n",
       "      <td>B00004SU18</td>\n",
       "      <td>Brita</td>\n",
       "      <td>Home &amp; Kitchen</td>\n",
       "      <td>Brita Pitcher Replacement Filters are universa...</td>\n",
       "      <td>14.99</td>\n",
       "      <td>NaN</td>\n",
       "      <td>Brita 35503 Pitcher Replacement Filters, 3-Pack</td>\n",
       "      <td>[0, 0]</td>\n",
       "      <td>4.0</td>\n",
       "      <td>Best</td>\n",
       "      <td>07 15, 2014</td>\n",
       "      <td>A1HXJZASU1OAIB</td>\n",
       "      <td>None</td>\n",
       "      <td>Four Stars</td>\n",
       "      <td>1405382400</td>\n",
       "    </tr>\n",
       "  </tbody>\n",
       "</table>\n",
       "</div>"
      ],
      "text/plain": [
       "         asin  brand        category  \\\n",
       "0  B00004SU18  Brita  Home & Kitchen   \n",
       "1  B00004SU18  Brita  Home & Kitchen   \n",
       "\n",
       "                                         description  price  salesRank  \\\n",
       "0  Brita Pitcher Replacement Filters are universa...  14.99        NaN   \n",
       "1  Brita Pitcher Replacement Filters are universa...  14.99        NaN   \n",
       "\n",
       "                                             title helpful  overall  \\\n",
       "0  Brita 35503 Pitcher Replacement Filters, 3-Pack  [0, 0]      5.0   \n",
       "1  Brita 35503 Pitcher Replacement Filters, 3-Pack  [0, 0]      4.0   \n",
       "\n",
       "      reviewText   reviewTime      reviewerID reviewerName     summary  \\\n",
       "0  as described.  07 16, 2014  A3AU8JGEDLJ5BW         None  Five Stars   \n",
       "1           Best  07 15, 2014  A1HXJZASU1OAIB         None  Four Stars   \n",
       "\n",
       "   unixReviewTime  \n",
       "0      1405468800  \n",
       "1      1405382400  "
      ]
     },
     "execution_count": 16,
     "metadata": {},
     "output_type": "execute_result"
    }
   ],
   "source": [
    "reviews.head(2)"
   ]
  },
  {
   "cell_type": "markdown",
   "metadata": {},
   "source": [
    "<h1>Top brand by categories </h1>"
   ]
  },
  {
   "cell_type": "markdown",
   "metadata": {},
   "source": [
    "**Top brand eco product Home and Kitchen**"
   ]
  },
  {
   "cell_type": "markdown",
   "metadata": {},
   "source": [
    "First groupby the reviews by brand then count reviews and overall for each product"
   ]
  },
  {
   "cell_type": "code",
   "execution_count": 17,
   "metadata": {
    "scrolled": true
   },
   "outputs": [
    {
     "name": "stdout",
     "output_type": "stream",
     "text": [
      "Sort overall by brand then product\n"
     ]
    }
   ],
   "source": [
    "# Groupby brand then products\n",
    "top_home = reviews.groupby(['brand','asin']).agg(['count','mean'])\n",
    "\n",
    "#Drop views time\n",
    "top_home = top_home.drop(columns='unixReviewTime')\n",
    "\n",
    "# Clean df\n",
    "top_home['nb reviews'] = top_home[('overall','count')]\n",
    "top_home=top_home.drop(columns=[('price','count'),('overall','count'),('salesRank','count')])\n",
    "\n",
    "print('Sort overall by brand then product')\n",
    "#top_home.sort_values(by=[('overall','mean'),'nb reviews'], ascending=False).head(20)\n",
    "#top_home.head(50)"
   ]
  },
  {
   "cell_type": "markdown",
   "metadata": {},
   "source": [
    "Now ony look at the brand with best overall over all products"
   ]
  },
  {
   "cell_type": "code",
   "execution_count": 174,
   "metadata": {
    "scrolled": true
   },
   "outputs": [],
   "source": [
    "# Only groupby brand and do not look at id\n",
    "top_home = reviews.groupby('brand').agg(['count','mean'])\n",
    "\n",
    "# Add the number of reviews\n",
    "top_home['nb reviews'] = top_home[('overall','count')]\n",
    "\n",
    "# Clean\n",
    "top_home=top_home.drop(columns=[('price','count'),('overall','count'),('salesRank','count'),'unixReviewTime'])\n",
    "\n",
    "#print(\"Home and Kitchen best brand\")\n",
    "#top_home.sort_values(by=[('overall','mean'),'nb reviews'], ascending=False).head(20)\n",
    "\n",
    "#print(\"Home and Kitchen best brand with rounded overall\")\n",
    "top_home['round reviews'] = top_home[('overall','mean')].round()\n",
    "\n",
    "# Keep the 10 best brands\n",
    "top = top_home.sort_values(by=['round reviews','nb reviews'], ascending=False).head(10)\n",
    "top = top.sort_values(by=['nb reviews'], ascending=True);"
   ]
  },
  {
   "cell_type": "code",
   "execution_count": 175,
   "metadata": {},
   "outputs": [
    {
     "data": {
      "text/plain": [
       "Text(0.5,1,'Overall of top 10 brand')"
      ]
     },
     "execution_count": 175,
     "metadata": {},
     "output_type": "execute_result"
    },
    {
     "data": {
      "image/png": "[encoded data removed]",
      "text/plain": [
       "<Figure size 1080x720 with 2 Axes>"
      ]
     },
     "metadata": {},
     "output_type": "display_data"
    }
   ],
   "source": [
    "fig, axes = plt.subplots(1,2)\n",
    "\n",
    "# Horizontal bar chart\n",
    "plt.subplot(221)\n",
    "fig.set_size_inches(15,10)\n",
    "top['nb reviews'].plot.barh(grid=True)\n",
    "plt.title(\"Best brand overall over all product\")\n",
    "plt.ylabel(\"Brand\")\n",
    "plt.xlabel('Number of reviews')\n",
    "\n",
    "plt.subplot(222)\n",
    "top[('overall','mean')].plot(kind='bar', grid=True, rot=40)\n",
    "plt.ylabel('Overall mean')\n",
    "plt.title('Overall of top 10 brand')"
   ]
  },
  {
   "cell_type": "markdown",
   "metadata": {},
   "source": [
    "**Top brand eco product Patio Law Garden**"
   ]
  },
  {
   "cell_type": "code",
   "execution_count": 19,
   "metadata": {},
   "outputs": [],
   "source": [
    "patio = spark.read.parquet(\"PatioLawnGarden_joined.parquet\")\n",
    "patio = patio.toPandas()"
   ]
  },
  {
   "cell_type": "code",
   "execution_count": 55,
   "metadata": {},
   "outputs": [
    {
     "name": "stdout",
     "output_type": "stream",
     "text": [
      "Home and Kitchen best brand with rounded overall\n"
     ]
    },
    {
     "data": {
      "text/html": [
       "<div>\n",
       "<style scoped>\n",
       "    .dataframe tbody tr th:only-of-type {\n",
       "        vertical-align: middle;\n",
       "    }\n",
       "\n",
       "    .dataframe tbody tr th {\n",
       "        vertical-align: top;\n",
       "    }\n",
       "\n",
       "    .dataframe thead tr th {\n",
       "        text-align: left;\n",
       "    }\n",
       "\n",
       "    .dataframe thead tr:last-of-type th {\n",
       "        text-align: right;\n",
       "    }\n",
       "</style>\n",
       "<table border=\"1\" class=\"dataframe\">\n",
       "  <thead>\n",
       "    <tr>\n",
       "      <th></th>\n",
       "      <th>price</th>\n",
       "      <th>salesRank</th>\n",
       "      <th>overall</th>\n",
       "      <th>nb reviews</th>\n",
       "    </tr>\n",
       "    <tr>\n",
       "      <th></th>\n",
       "      <th>mean</th>\n",
       "      <th>mean</th>\n",
       "      <th>mean</th>\n",
       "      <th></th>\n",
       "    </tr>\n",
       "    <tr>\n",
       "      <th>brand</th>\n",
       "      <th></th>\n",
       "      <th></th>\n",
       "      <th></th>\n",
       "      <th></th>\n",
       "    </tr>\n",
       "  </thead>\n",
       "  <tbody>\n",
       "    <tr>\n",
       "      <th>Hydrofarm</th>\n",
       "      <td>36.0</td>\n",
       "      <td>11241.0</td>\n",
       "      <td>5.0</td>\n",
       "      <td>562</td>\n",
       "    </tr>\n",
       "    <tr>\n",
       "      <th>Generac</th>\n",
       "      <td>23.0</td>\n",
       "      <td>17629.0</td>\n",
       "      <td>5.0</td>\n",
       "      <td>115</td>\n",
       "    </tr>\n",
       "    <tr>\n",
       "      <th>Lakeland Mills</th>\n",
       "      <td>126.0</td>\n",
       "      <td>15050.0</td>\n",
       "      <td>5.0</td>\n",
       "      <td>80</td>\n",
       "    </tr>\n",
       "    <tr>\n",
       "      <th>Kammok&amp;reg;</th>\n",
       "      <td>29.0</td>\n",
       "      <td>NaN</td>\n",
       "      <td>5.0</td>\n",
       "      <td>72</td>\n",
       "    </tr>\n",
       "    <tr>\n",
       "      <th>Dyna-Gro</th>\n",
       "      <td>15.0</td>\n",
       "      <td>9456.0</td>\n",
       "      <td>5.0</td>\n",
       "      <td>68</td>\n",
       "    </tr>\n",
       "    <tr>\n",
       "      <th>Nature&amp;#39;s Footprint</th>\n",
       "      <td>21.0</td>\n",
       "      <td>26010.0</td>\n",
       "      <td>5.0</td>\n",
       "      <td>61</td>\n",
       "    </tr>\n",
       "    <tr>\n",
       "      <th>Espoma</th>\n",
       "      <td>11.0</td>\n",
       "      <td>27013.0</td>\n",
       "      <td>5.0</td>\n",
       "      <td>50</td>\n",
       "    </tr>\n",
       "    <tr>\n",
       "      <th>Neptune&amp;#39;s Harvest</th>\n",
       "      <td>23.0</td>\n",
       "      <td>8152.0</td>\n",
       "      <td>5.0</td>\n",
       "      <td>42</td>\n",
       "    </tr>\n",
       "    <tr>\n",
       "      <th>Yamaha</th>\n",
       "      <td>NaN</td>\n",
       "      <td>11930.0</td>\n",
       "      <td>5.0</td>\n",
       "      <td>42</td>\n",
       "    </tr>\n",
       "    <tr>\n",
       "      <th>Botanical Interests</th>\n",
       "      <td>2.0</td>\n",
       "      <td>6364.0</td>\n",
       "      <td>5.0</td>\n",
       "      <td>41</td>\n",
       "    </tr>\n",
       "  </tbody>\n",
       "</table>\n",
       "</div>"
      ],
      "text/plain": [
       "                        price salesRank overall nb reviews\n",
       "                         mean      mean    mean           \n",
       "brand                                                     \n",
       "Hydrofarm                36.0   11241.0     5.0        562\n",
       "Generac                  23.0   17629.0     5.0        115\n",
       "Lakeland Mills          126.0   15050.0     5.0         80\n",
       "Kammok&reg;              29.0       NaN     5.0         72\n",
       "Dyna-Gro                 15.0    9456.0     5.0         68\n",
       "Nature&#39;s Footprint   21.0   26010.0     5.0         61\n",
       "Espoma                   11.0   27013.0     5.0         50\n",
       "Neptune&#39;s Harvest    23.0    8152.0     5.0         42\n",
       "Yamaha                    NaN   11930.0     5.0         42\n",
       "Botanical Interests       2.0    6364.0     5.0         41"
      ]
     },
     "execution_count": 55,
     "metadata": {},
     "output_type": "execute_result"
    }
   ],
   "source": [
    "# Only groupby brand and do not look at id\n",
    "top_patio = patio.groupby('brand').agg(['count','mean'])\n",
    "\n",
    "# Add the number of reviews\n",
    "top_patio['nb reviews'] = top_patio[('overall','count')]\n",
    "\n",
    "# Clean\n",
    "top_patio = top_patio.drop(columns=[('price','count'),('overall','count'),('salesRank','count'),'unixReviewTime'])\n",
    "\n",
    "#print(\"Home and Kitchen best brand\")\n",
    "#top_home.sort_values(by=[('overall','mean'),'nb reviews'], ascending=False).head(20)\n",
    "\n",
    "print(\"Home and Kitchen best brand with rounded overall\")\n",
    "top_patio.round().sort_values(by=[('overall','mean'),'nb reviews'], ascending=False).head(10)\n"
   ]
  },
  {
   "cell_type": "code",
   "execution_count": 68,
   "metadata": {},
   "outputs": [
    {
     "data": {
      "text/plain": [
       "Text(0.5,0,'Number of reviews')"
      ]
     },
     "execution_count": 68,
     "metadata": {},
     "output_type": "execute_result"
    },
    {
     "data": {
      "image/png": "[encoded data removed]",
      "text/plain": [
       "<Figure size 432x288 with 1 Axes>"
      ]
     },
     "metadata": {},
     "output_type": "display_data"
    }
   ],
   "source": [
    "# Keep the 10 best brands\n",
    "top = top_patio.round().sort_values(by=[('overall','mean'),'nb reviews'], ascending=False).head(10)\n",
    "top = top.sort_values(by=['nb reviews'], ascending=True);\n",
    "\n",
    "# Horizontal bar chart\n",
    "fig.set_size_inches(16,5)\n",
    "ax = top['nb reviews'].plot.barh(grid=True)\n",
    "plt.title(\"Best brand overall over all product\")\n",
    "plt.ylabel(\"Brand\")\n",
    "plt.xlabel('Number of reviews')"
   ]
  },
  {
   "cell_type": "markdown",
   "metadata": {},
   "source": [
    "Then we are going to round up the overall. We are interested by brand with best overall grades. Actually we can see that a brand with only 1 product and only one 5 stars review will have a higher rank than a brand with 72 reviews and a overall mean of 4.9."
   ]
  },
  {
   "cell_type": "markdown",
   "metadata": {},
   "source": [
    "**Top brand eco product Gourmet and Food**"
   ]
  },
  {
   "cell_type": "code",
   "execution_count": 22,
   "metadata": {},
   "outputs": [],
   "source": [
    "gourmet = spark.read.parquet(\"Grocery_and_Gourmet_Food.parquet\")"
   ]
  },
  {
   "cell_type": "code",
   "execution_count": 23,
   "metadata": {},
   "outputs": [],
   "source": [
    "gourmet = gourmet.toPandas()\n",
    "#gourmet = gourmet.dropna(subset=['price'])"
   ]
  },
  {
   "cell_type": "code",
   "execution_count": 71,
   "metadata": {
    "scrolled": true
   },
   "outputs": [
    {
     "name": "stdout",
     "output_type": "stream",
     "text": [
      "Home and Kitchen best brand with rounded overall\n"
     ]
    },
    {
     "data": {
      "text/html": [
       "<div>\n",
       "<style scoped>\n",
       "    .dataframe tbody tr th:only-of-type {\n",
       "        vertical-align: middle;\n",
       "    }\n",
       "\n",
       "    .dataframe tbody tr th {\n",
       "        vertical-align: top;\n",
       "    }\n",
       "\n",
       "    .dataframe thead tr th {\n",
       "        text-align: left;\n",
       "    }\n",
       "\n",
       "    .dataframe thead tr:last-of-type th {\n",
       "        text-align: right;\n",
       "    }\n",
       "</style>\n",
       "<table border=\"1\" class=\"dataframe\">\n",
       "  <thead>\n",
       "    <tr>\n",
       "      <th></th>\n",
       "      <th>price</th>\n",
       "      <th>salesRank</th>\n",
       "      <th>overall</th>\n",
       "      <th>nb reviews</th>\n",
       "    </tr>\n",
       "    <tr>\n",
       "      <th></th>\n",
       "      <th>mean</th>\n",
       "      <th>mean</th>\n",
       "      <th>mean</th>\n",
       "      <th></th>\n",
       "    </tr>\n",
       "    <tr>\n",
       "      <th>brand</th>\n",
       "      <th></th>\n",
       "      <th></th>\n",
       "      <th></th>\n",
       "      <th></th>\n",
       "    </tr>\n",
       "  </thead>\n",
       "  <tbody>\n",
       "    <tr>\n",
       "      <th>Melitta</th>\n",
       "      <td>23.0</td>\n",
       "      <td>NaN</td>\n",
       "      <td>5.0</td>\n",
       "      <td>578</td>\n",
       "    </tr>\n",
       "    <tr>\n",
       "      <th>Wholesome Sweeteners</th>\n",
       "      <td>40.0</td>\n",
       "      <td>27883.0</td>\n",
       "      <td>5.0</td>\n",
       "      <td>512</td>\n",
       "    </tr>\n",
       "    <tr>\n",
       "      <th>DaVinci</th>\n",
       "      <td>29.0</td>\n",
       "      <td>14907.0</td>\n",
       "      <td>5.0</td>\n",
       "      <td>180</td>\n",
       "    </tr>\n",
       "    <tr>\n",
       "      <th>Surf Sweets</th>\n",
       "      <td>28.0</td>\n",
       "      <td>22600.0</td>\n",
       "      <td>5.0</td>\n",
       "      <td>154</td>\n",
       "    </tr>\n",
       "    <tr>\n",
       "      <th>Late July</th>\n",
       "      <td>40.0</td>\n",
       "      <td>7183.0</td>\n",
       "      <td>5.0</td>\n",
       "      <td>148</td>\n",
       "    </tr>\n",
       "    <tr>\n",
       "      <th>Rishi Tea</th>\n",
       "      <td>41.0</td>\n",
       "      <td>33634.0</td>\n",
       "      <td>5.0</td>\n",
       "      <td>123</td>\n",
       "    </tr>\n",
       "    <tr>\n",
       "      <th>Solofill</th>\n",
       "      <td>16.0</td>\n",
       "      <td>NaN</td>\n",
       "      <td>5.0</td>\n",
       "      <td>93</td>\n",
       "    </tr>\n",
       "    <tr>\n",
       "      <th>Honest Tea</th>\n",
       "      <td>22.0</td>\n",
       "      <td>1250.0</td>\n",
       "      <td>5.0</td>\n",
       "      <td>77</td>\n",
       "    </tr>\n",
       "    <tr>\n",
       "      <th>Rapunzel</th>\n",
       "      <td>35.0</td>\n",
       "      <td>70782.0</td>\n",
       "      <td>5.0</td>\n",
       "      <td>68</td>\n",
       "    </tr>\n",
       "    <tr>\n",
       "      <th>Brex America</th>\n",
       "      <td>21.0</td>\n",
       "      <td>4020.0</td>\n",
       "      <td>5.0</td>\n",
       "      <td>67</td>\n",
       "    </tr>\n",
       "  </tbody>\n",
       "</table>\n",
       "</div>"
      ],
      "text/plain": [
       "                     price salesRank overall nb reviews\n",
       "                      mean      mean    mean           \n",
       "brand                                                  \n",
       "Melitta               23.0       NaN     5.0        578\n",
       "Wholesome Sweeteners  40.0   27883.0     5.0        512\n",
       "DaVinci               29.0   14907.0     5.0        180\n",
       "Surf Sweets           28.0   22600.0     5.0        154\n",
       "Late July             40.0    7183.0     5.0        148\n",
       "Rishi Tea             41.0   33634.0     5.0        123\n",
       "Solofill              16.0       NaN     5.0         93\n",
       "Honest Tea            22.0    1250.0     5.0         77\n",
       "Rapunzel              35.0   70782.0     5.0         68\n",
       "Brex America          21.0    4020.0     5.0         67"
      ]
     },
     "execution_count": 71,
     "metadata": {},
     "output_type": "execute_result"
    }
   ],
   "source": [
    "# Only groupby brand and do not look at id\n",
    "top_gourmet = gourmet.groupby('brand').agg(['count','mean'])\n",
    "\n",
    "# Add the number of reviews\n",
    "top_gourmet['nb reviews'] = top_gourmet[('overall','count')]\n",
    "\n",
    "# Clean\n",
    "top_gourmet = top_gourmet.drop(columns=[('price','count'),('overall','count'),('salesRank','count'),'unixReviewTime'])\n",
    "\n",
    "#print(\"Home and Kitchen best brand\")\n",
    "#top_home.sort_values(by=[('overall','mean'),'nb reviews'], ascending=False).head(20)\n",
    "\n",
    "print(\"Home and Kitchen best brand with rounded overall\")\n",
    "top_gourmet.round().sort_values(by=[('overall','mean'),'nb reviews'], ascending=False).head(10)\n"
   ]
  },
  {
   "cell_type": "code",
   "execution_count": 72,
   "metadata": {},
   "outputs": [
    {
     "data": {
      "text/plain": [
       "Text(0.5,0,'Number of reviews')"
      ]
     },
     "execution_count": 72,
     "metadata": {},
     "output_type": "execute_result"
    },
    {
     "data": {
      "image/png": "[encoded data removed]",
      "text/plain": [
       "<Figure size 432x288 with 1 Axes>"
      ]
     },
     "metadata": {},
     "output_type": "display_data"
    }
   ],
   "source": [
    "# Keep the 10 best brands\n",
    "top = top_gourmet.round().sort_values(by=[('overall','mean'),'nb reviews'], ascending=False).head(10)\n",
    "top = top.sort_values(by=['nb reviews'], ascending=True);\n",
    "\n",
    "# Horizontal bar chart\n",
    "fig.set_size_inches(16,5)\n",
    "ax = top['nb reviews'].plot.barh(grid=True)\n",
    "plt.title(\"Best brand overall over all product\")\n",
    "plt.ylabel(\"Brand\")\n",
    "plt.xlabel('Number of reviews')"
   ]
  },
  {
   "cell_type": "markdown",
   "metadata": {},
   "source": [
    "**Top brand eco product Healthcare**"
   ]
  },
  {
   "cell_type": "code",
   "execution_count": 25,
   "metadata": {},
   "outputs": [],
   "source": [
    "health = spark.read.parquet(\"HealthPersonalCare_joined.parquet\")"
   ]
  },
  {
   "cell_type": "code",
   "execution_count": 26,
   "metadata": {},
   "outputs": [],
   "source": [
    "health = health.toPandas()\n",
    "#health = health.dropna(subset=['price'])"
   ]
  },
  {
   "cell_type": "code",
   "execution_count": 74,
   "metadata": {
    "scrolled": true
   },
   "outputs": [
    {
     "name": "stdout",
     "output_type": "stream",
     "text": [
      "Home and Kitchen best brand with rounded overall\n"
     ]
    },
    {
     "data": {
      "text/html": [
       "<div>\n",
       "<style scoped>\n",
       "    .dataframe tbody tr th:only-of-type {\n",
       "        vertical-align: middle;\n",
       "    }\n",
       "\n",
       "    .dataframe tbody tr th {\n",
       "        vertical-align: top;\n",
       "    }\n",
       "\n",
       "    .dataframe thead tr th {\n",
       "        text-align: left;\n",
       "    }\n",
       "\n",
       "    .dataframe thead tr:last-of-type th {\n",
       "        text-align: right;\n",
       "    }\n",
       "</style>\n",
       "<table border=\"1\" class=\"dataframe\">\n",
       "  <thead>\n",
       "    <tr>\n",
       "      <th></th>\n",
       "      <th>price</th>\n",
       "      <th>salesRank</th>\n",
       "      <th>overall</th>\n",
       "      <th>nb reviews</th>\n",
       "    </tr>\n",
       "    <tr>\n",
       "      <th></th>\n",
       "      <th>mean</th>\n",
       "      <th>mean</th>\n",
       "      <th>mean</th>\n",
       "      <th></th>\n",
       "    </tr>\n",
       "    <tr>\n",
       "      <th>brand</th>\n",
       "      <th></th>\n",
       "      <th></th>\n",
       "      <th></th>\n",
       "      <th></th>\n",
       "    </tr>\n",
       "  </thead>\n",
       "  <tbody>\n",
       "    <tr>\n",
       "      <th>Diva Cup</th>\n",
       "      <td>21.0</td>\n",
       "      <td>568.0</td>\n",
       "      <td>5.0</td>\n",
       "      <td>1362</td>\n",
       "    </tr>\n",
       "    <tr>\n",
       "      <th>Nordic Pure</th>\n",
       "      <td>21.0</td>\n",
       "      <td>18284.0</td>\n",
       "      <td>5.0</td>\n",
       "      <td>530</td>\n",
       "    </tr>\n",
       "    <tr>\n",
       "      <th>Epica</th>\n",
       "      <td>8.0</td>\n",
       "      <td>NaN</td>\n",
       "      <td>5.0</td>\n",
       "      <td>480</td>\n",
       "    </tr>\n",
       "    <tr>\n",
       "      <th>Eden Pond</th>\n",
       "      <td>20.0</td>\n",
       "      <td>10279.0</td>\n",
       "      <td>5.0</td>\n",
       "      <td>313</td>\n",
       "    </tr>\n",
       "    <tr>\n",
       "      <th>Glass Dharma</th>\n",
       "      <td>22.0</td>\n",
       "      <td>114815.0</td>\n",
       "      <td>5.0</td>\n",
       "      <td>274</td>\n",
       "    </tr>\n",
       "    <tr>\n",
       "      <th>Sanyo</th>\n",
       "      <td>42.0</td>\n",
       "      <td>NaN</td>\n",
       "      <td>5.0</td>\n",
       "      <td>253</td>\n",
       "    </tr>\n",
       "    <tr>\n",
       "      <th>Medline</th>\n",
       "      <td>13.0</td>\n",
       "      <td>63352.0</td>\n",
       "      <td>5.0</td>\n",
       "      <td>246</td>\n",
       "    </tr>\n",
       "    <tr>\n",
       "      <th>Country Save</th>\n",
       "      <td>78.0</td>\n",
       "      <td>11811.0</td>\n",
       "      <td>5.0</td>\n",
       "      <td>194</td>\n",
       "    </tr>\n",
       "    <tr>\n",
       "      <th>J.R. Watkins</th>\n",
       "      <td>24.0</td>\n",
       "      <td>39181.0</td>\n",
       "      <td>5.0</td>\n",
       "      <td>169</td>\n",
       "    </tr>\n",
       "    <tr>\n",
       "      <th>Serene Innovations</th>\n",
       "      <td>59.0</td>\n",
       "      <td>25904.0</td>\n",
       "      <td>5.0</td>\n",
       "      <td>143</td>\n",
       "    </tr>\n",
       "  </tbody>\n",
       "</table>\n",
       "</div>"
      ],
      "text/plain": [
       "                   price salesRank overall nb reviews\n",
       "                    mean      mean    mean           \n",
       "brand                                                \n",
       "Diva Cup            21.0     568.0     5.0       1362\n",
       "Nordic Pure         21.0   18284.0     5.0        530\n",
       "Epica                8.0       NaN     5.0        480\n",
       "Eden Pond           20.0   10279.0     5.0        313\n",
       "Glass Dharma        22.0  114815.0     5.0        274\n",
       "Sanyo               42.0       NaN     5.0        253\n",
       "Medline             13.0   63352.0     5.0        246\n",
       "Country Save        78.0   11811.0     5.0        194\n",
       "J.R. Watkins        24.0   39181.0     5.0        169\n",
       "Serene Innovations  59.0   25904.0     5.0        143"
      ]
     },
     "execution_count": 74,
     "metadata": {},
     "output_type": "execute_result"
    }
   ],
   "source": [
    "# Only groupby brand and do not look at id\n",
    "top_health = health.groupby('brand').agg(['count','mean'])\n",
    "\n",
    "# Add the number of reviews\n",
    "top_health['nb reviews'] = top_health[('overall','count')]\n",
    "\n",
    "# Clean\n",
    "top_health = top_health.drop(columns=[('price','count'),('overall','count'),('salesRank','count'),'unixReviewTime'])\n",
    "\n",
    "#print(\"Home and Kitchen best brand\")\n",
    "#top_home.sort_values(by=[('overall','mean'),'nb reviews'], ascending=False).head(20)\n",
    "\n",
    "print(\"Home and Kitchen best brand with rounded overall\")\n",
    "top_health.round().sort_values(by=[('overall','mean'),'nb reviews'], ascending=False).head(10)\n"
   ]
  },
  {
   "cell_type": "code",
   "execution_count": 75,
   "metadata": {},
   "outputs": [
    {
     "data": {
      "text/plain": [
       "Text(0.5,0,'Number of reviews')"
      ]
     },
     "execution_count": 75,
     "metadata": {},
     "output_type": "execute_result"
    },
    {
     "data": {
      "image/png": "[encoded data removed]",
      "text/plain": [
       "<Figure size 432x288 with 1 Axes>"
      ]
     },
     "metadata": {},
     "output_type": "display_data"
    }
   ],
   "source": [
    "# Keep the 10 best brands\n",
    "top = top_health.round().sort_values(by=[('overall','mean'),'nb reviews'], ascending=False).head(10)\n",
    "top = top.sort_values(by=['nb reviews'], ascending=True);\n",
    "\n",
    "# Horizontal bar chart\n",
    "fig.set_size_inches(16,5)\n",
    "ax = top['nb reviews'].plot.barh(grid=True)\n",
    "plt.title(\"Best brand overall over all product\")\n",
    "plt.ylabel(\"Brand\")\n",
    "plt.xlabel('Number of reviews')"
   ]
  },
  {
   "cell_type": "markdown",
   "metadata": {},
   "source": [
    "**Top brand eco product Books**"
   ]
  },
  {
   "cell_type": "code",
   "execution_count": 28,
   "metadata": {},
   "outputs": [],
   "source": [
    "#book = spark.read.parquet(\"HealthPersonalCare_joined.parquet\")"
   ]
  },
  {
   "cell_type": "code",
   "execution_count": 29,
   "metadata": {},
   "outputs": [],
   "source": [
    "#book = book.toPandas()\n",
    "#book = book.dropna(subset=['price'])"
   ]
  },
  {
   "cell_type": "code",
   "execution_count": 30,
   "metadata": {},
   "outputs": [
    {
     "name": "stdout",
     "output_type": "stream",
     "text": [
      "Patio law Garden best brand\n"
     ]
    },
    {
     "data": {
      "text/html": [
       "<div>\n",
       "<style scoped>\n",
       "    .dataframe tbody tr th:only-of-type {\n",
       "        vertical-align: middle;\n",
       "    }\n",
       "\n",
       "    .dataframe tbody tr th {\n",
       "        vertical-align: top;\n",
       "    }\n",
       "\n",
       "    .dataframe thead tr th {\n",
       "        text-align: left;\n",
       "    }\n",
       "\n",
       "    .dataframe thead tr:last-of-type th {\n",
       "        text-align: right;\n",
       "    }\n",
       "</style>\n",
       "<table border=\"1\" class=\"dataframe\">\n",
       "  <thead>\n",
       "    <tr>\n",
       "      <th></th>\n",
       "      <th colspan=\"2\" halign=\"left\">price</th>\n",
       "      <th colspan=\"2\" halign=\"left\">salesRank</th>\n",
       "      <th colspan=\"2\" halign=\"left\">overall</th>\n",
       "    </tr>\n",
       "    <tr>\n",
       "      <th></th>\n",
       "      <th>count</th>\n",
       "      <th>mean</th>\n",
       "      <th>count</th>\n",
       "      <th>mean</th>\n",
       "      <th>count</th>\n",
       "      <th>mean</th>\n",
       "    </tr>\n",
       "    <tr>\n",
       "      <th>brand</th>\n",
       "      <th></th>\n",
       "      <th></th>\n",
       "      <th></th>\n",
       "      <th></th>\n",
       "      <th></th>\n",
       "      <th></th>\n",
       "    </tr>\n",
       "  </thead>\n",
       "  <tbody>\n",
       "    <tr>\n",
       "      <th>Life Tree</th>\n",
       "      <td>12</td>\n",
       "      <td>8.663333</td>\n",
       "      <td>10</td>\n",
       "      <td>162423.8</td>\n",
       "      <td>12</td>\n",
       "      <td>5.0</td>\n",
       "    </tr>\n",
       "    <tr>\n",
       "      <th>Hefty</th>\n",
       "      <td>10</td>\n",
       "      <td>53.868002</td>\n",
       "      <td>10</td>\n",
       "      <td>65892.0</td>\n",
       "      <td>10</td>\n",
       "      <td>5.0</td>\n",
       "    </tr>\n",
       "    <tr>\n",
       "      <th>Peaceful Mountain</th>\n",
       "      <td>10</td>\n",
       "      <td>9.250000</td>\n",
       "      <td>10</td>\n",
       "      <td>101498.0</td>\n",
       "      <td>10</td>\n",
       "      <td>5.0</td>\n",
       "    </tr>\n",
       "    <tr>\n",
       "      <th>Better Life</th>\n",
       "      <td>8</td>\n",
       "      <td>13.090000</td>\n",
       "      <td>8</td>\n",
       "      <td>25206.0</td>\n",
       "      <td>8</td>\n",
       "      <td>5.0</td>\n",
       "    </tr>\n",
       "    <tr>\n",
       "      <th>Pro-Stat</th>\n",
       "      <td>8</td>\n",
       "      <td>102.312503</td>\n",
       "      <td>8</td>\n",
       "      <td>72252.0</td>\n",
       "      <td>8</td>\n",
       "      <td>5.0</td>\n",
       "    </tr>\n",
       "    <tr>\n",
       "      <th>CosMedix</th>\n",
       "      <td>6</td>\n",
       "      <td>46.936667</td>\n",
       "      <td>6</td>\n",
       "      <td>88562.0</td>\n",
       "      <td>6</td>\n",
       "      <td>5.0</td>\n",
       "    </tr>\n",
       "    <tr>\n",
       "      <th>Diva International</th>\n",
       "      <td>6</td>\n",
       "      <td>61.180000</td>\n",
       "      <td>0</td>\n",
       "      <td>NaN</td>\n",
       "      <td>6</td>\n",
       "      <td>5.0</td>\n",
       "    </tr>\n",
       "    <tr>\n",
       "      <th>First Voice</th>\n",
       "      <td>6</td>\n",
       "      <td>16.400000</td>\n",
       "      <td>0</td>\n",
       "      <td>NaN</td>\n",
       "      <td>6</td>\n",
       "      <td>5.0</td>\n",
       "    </tr>\n",
       "    <tr>\n",
       "      <th>Interstate</th>\n",
       "      <td>6</td>\n",
       "      <td>14.280000</td>\n",
       "      <td>0</td>\n",
       "      <td>NaN</td>\n",
       "      <td>6</td>\n",
       "      <td>5.0</td>\n",
       "    </tr>\n",
       "    <tr>\n",
       "      <th>Microflex</th>\n",
       "      <td>6</td>\n",
       "      <td>16.320000</td>\n",
       "      <td>0</td>\n",
       "      <td>NaN</td>\n",
       "      <td>6</td>\n",
       "      <td>5.0</td>\n",
       "    </tr>\n",
       "    <tr>\n",
       "      <th>Trewax</th>\n",
       "      <td>6</td>\n",
       "      <td>5.540000</td>\n",
       "      <td>0</td>\n",
       "      <td>NaN</td>\n",
       "      <td>6</td>\n",
       "      <td>5.0</td>\n",
       "    </tr>\n",
       "    <tr>\n",
       "      <th>Amerigel</th>\n",
       "      <td>5</td>\n",
       "      <td>51.610001</td>\n",
       "      <td>0</td>\n",
       "      <td>NaN</td>\n",
       "      <td>5</td>\n",
       "      <td>5.0</td>\n",
       "    </tr>\n",
       "    <tr>\n",
       "      <th>E-Cloth</th>\n",
       "      <td>5</td>\n",
       "      <td>12.990000</td>\n",
       "      <td>5</td>\n",
       "      <td>111814.0</td>\n",
       "      <td>5</td>\n",
       "      <td>5.0</td>\n",
       "    </tr>\n",
       "    <tr>\n",
       "      <th>ELF Brands (Eco Living Friendly)</th>\n",
       "      <td>5</td>\n",
       "      <td>49.950001</td>\n",
       "      <td>5</td>\n",
       "      <td>18217.0</td>\n",
       "      <td>5</td>\n",
       "      <td>5.0</td>\n",
       "    </tr>\n",
       "    <tr>\n",
       "      <th>Etude House</th>\n",
       "      <td>5</td>\n",
       "      <td>9.740000</td>\n",
       "      <td>0</td>\n",
       "      <td>NaN</td>\n",
       "      <td>5</td>\n",
       "      <td>5.0</td>\n",
       "    </tr>\n",
       "    <tr>\n",
       "      <th>Glisten</th>\n",
       "      <td>5</td>\n",
       "      <td>23.990000</td>\n",
       "      <td>5</td>\n",
       "      <td>47646.0</td>\n",
       "      <td>5</td>\n",
       "      <td>5.0</td>\n",
       "    </tr>\n",
       "    <tr>\n",
       "      <th>Jay Robb</th>\n",
       "      <td>5</td>\n",
       "      <td>105.750000</td>\n",
       "      <td>5</td>\n",
       "      <td>57506.0</td>\n",
       "      <td>5</td>\n",
       "      <td>5.0</td>\n",
       "    </tr>\n",
       "    <tr>\n",
       "      <th>Pure Care Home</th>\n",
       "      <td>5</td>\n",
       "      <td>4.670000</td>\n",
       "      <td>0</td>\n",
       "      <td>NaN</td>\n",
       "      <td>5</td>\n",
       "      <td>5.0</td>\n",
       "    </tr>\n",
       "    <tr>\n",
       "      <th>Qnt International</th>\n",
       "      <td>5</td>\n",
       "      <td>41.950001</td>\n",
       "      <td>5</td>\n",
       "      <td>600777.0</td>\n",
       "      <td>5</td>\n",
       "      <td>5.0</td>\n",
       "    </tr>\n",
       "    <tr>\n",
       "      <th>TELFA</th>\n",
       "      <td>5</td>\n",
       "      <td>25.700001</td>\n",
       "      <td>5</td>\n",
       "      <td>69431.0</td>\n",
       "      <td>5</td>\n",
       "      <td>5.0</td>\n",
       "    </tr>\n",
       "  </tbody>\n",
       "</table>\n",
       "</div>"
      ],
      "text/plain": [
       "                                 price             salesRank            \\\n",
       "                                 count        mean     count      mean   \n",
       "brand                                                                    \n",
       "Life Tree                           12    8.663333        10  162423.8   \n",
       "Hefty                               10   53.868002        10   65892.0   \n",
       "Peaceful Mountain                   10    9.250000        10  101498.0   \n",
       "Better Life                          8   13.090000         8   25206.0   \n",
       "Pro-Stat                             8  102.312503         8   72252.0   \n",
       "CosMedix                             6   46.936667         6   88562.0   \n",
       "Diva International                   6   61.180000         0       NaN   \n",
       "First Voice                          6   16.400000         0       NaN   \n",
       "Interstate                           6   14.280000         0       NaN   \n",
       "Microflex                            6   16.320000         0       NaN   \n",
       "Trewax                               6    5.540000         0       NaN   \n",
       "Amerigel                             5   51.610001         0       NaN   \n",
       "E-Cloth                              5   12.990000         5  111814.0   \n",
       "ELF Brands (Eco Living Friendly)     5   49.950001         5   18217.0   \n",
       "Etude House                          5    9.740000         0       NaN   \n",
       "Glisten                              5   23.990000         5   47646.0   \n",
       "Jay Robb                             5  105.750000         5   57506.0   \n",
       "Pure Care Home                       5    4.670000         0       NaN   \n",
       "Qnt International                    5   41.950001         5  600777.0   \n",
       "TELFA                                5   25.700001         5   69431.0   \n",
       "\n",
       "                                 overall       \n",
       "                                   count mean  \n",
       "brand                                          \n",
       "Life Tree                             12  5.0  \n",
       "Hefty                                 10  5.0  \n",
       "Peaceful Mountain                     10  5.0  \n",
       "Better Life                            8  5.0  \n",
       "Pro-Stat                               8  5.0  \n",
       "CosMedix                               6  5.0  \n",
       "Diva International                     6  5.0  \n",
       "First Voice                            6  5.0  \n",
       "Interstate                             6  5.0  \n",
       "Microflex                              6  5.0  \n",
       "Trewax                                 6  5.0  \n",
       "Amerigel                               5  5.0  \n",
       "E-Cloth                                5  5.0  \n",
       "ELF Brands (Eco Living Friendly)       5  5.0  \n",
       "Etude House                            5  5.0  \n",
       "Glisten                                5  5.0  \n",
       "Jay Robb                               5  5.0  \n",
       "Pure Care Home                         5  5.0  \n",
       "Qnt International                      5  5.0  \n",
       "TELFA                                  5  5.0  "
      ]
     },
     "execution_count": 30,
     "metadata": {},
     "output_type": "execute_result"
    }
   ],
   "source": [
    "#top_book = book.groupby('brand').agg(['count','mean'])\n",
    "#top_book = top_book.drop(['unixReviewTime'], axis=1)\n",
    "#print(\"Patio law Garden best brand\")\n",
    "#top_book.sort_values(by=[('overall','mean'),('overall','count')], ascending=False).head(20)"
   ]
  }
 ],
 "metadata": {
  "kernelspec": {
   "display_name": "Python [conda env:anaconda3]",
   "language": "python",
   "name": "conda-env-anaconda3-py"
  },
  "language_info": {
   "codemirror_mode": {
    "name": "ipython",
    "version": 3
   },
   "file_extension": ".py",
   "mimetype": "text/x-python",
   "name": "python",
   "nbconvert_exporter": "python",
   "pygments_lexer": "ipython3",
   "version": "3.6.5"
  }
 },
 "nbformat": 4,
 "nbformat_minor": 2
}
