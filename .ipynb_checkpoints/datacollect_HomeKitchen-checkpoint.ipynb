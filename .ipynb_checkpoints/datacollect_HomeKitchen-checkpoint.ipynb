{
 "cells": [
  {
   "cell_type": "code",
   "execution_count": 1,
   "metadata": {},
   "outputs": [],
   "source": [
    "import pandas as pd\n",
    "import numpy as np\n",
    "import scipy as sp\n",
    "\n",
    "import matplotlib.pyplot as plt\n",
    "\n",
    "from datetime import datetime\n",
    "\n",
    "%matplotlib inline"
   ]
  },
  {
   "cell_type": "code",
   "execution_count": 2,
   "metadata": {},
   "outputs": [],
   "source": [
    "import findspark\n",
    "findspark.init()\n",
    "import pyspark\n",
    "\n",
    "from pyspark.sql.types import DateType\n",
    "from pyspark.sql.types import TimestampType\n",
    "from pyspark.sql.functions import *\n",
    "import pyspark.sql.functions as fn\n",
    "import pyspark.sql.functions as sqlf\n",
    "from pyspark.sql import Window\n",
    "from pyspark.sql.types import *\n",
    "from pyspark.sql import *\n",
    "from pyspark.sql import SQLContext\n",
    "\n",
    "spark = SparkSession.builder.getOrCreate()\n",
    "sc = spark.sparkContext\n",
    "sqlContext = SQLContext(sc)"
   ]
  },
  {
   "cell_type": "markdown",
   "metadata": {},
   "source": [
    "<h2>Data Collection</h2>\n",
    "\n",
    "Amazon Data : Collection/Analysis of data from Amazon (Reviews and Metadata of products) associated to the thema : ecology, bio, renewable etc... (see keywords vector)\n",
    "\n",
    "In this notebook we are going to dwell on amazon Kindle Store. Amazon Kindle devices enable users to browse, buy, download, and read e-books, newspapers, magazines and other digital media. \n",
    "\n",
    "__Review data__ : \n",
    "\n",
    "\n",
    "Features:\n",
    "\n",
    "- reviewerID - ID of the reviewer, e.g. A2SUAM1J3GNN3B\n",
    "- asin - ID of the product, e.g. 0000013714\n",
    "- reviewerName - name of the reviewer\n",
    "- helpful - helpfulness rating of the review, e.g. 2/3\n",
    "- reviewText - text of the review\n",
    "- overall - rating of the product\n",
    "- summary - summary of the review\n",
    "- unixReviewTime - time of the review (unix time)\n",
    "- reviewTime - time of the review (raw)\n",
    "\n",
    "__Metadata (Product)__ : \n",
    "Contains the list of all products\n",
    "\n",
    "Features:\n",
    "\n",
    "- asin - ID of the product, e.g. 0000031852\n",
    "- title - name of the product\n",
    "- price - price in US dollars (at time of crawl)\n",
    "- imUrl - url of the product image\n",
    "- related - related products (also bought, also viewed, bought together, buy after viewing)\n",
    "- salesRank - sales rank information\n",
    "- brand - brand name\n",
    "- categories - list of categories the product belongs to"
   ]
  },
  {
   "cell_type": "markdown",
   "metadata": {},
   "source": [
    "<h3> TO DO LIST </h3>\n",
    "\n",
    "In the followings statements, 'extracted' means filtered with the thema : products/reviews associated to bio/ecology/renewable etc...\n",
    "\n",
    "- Choose category to focus on : Books ?  / Cinema Movies / Kindle Store / Home Kitchen / Health Personal Care (K) / Tools Home Improvement (K) / Grocery Food  / Tools Home (K)\n",
    "- Show Proportion of extracted data compared to the full data (of the category)\n",
    "- Comparison of extracted data between categories (which one contains the most related products/review interest)\n",
    "- Distribution Price of extracted data (per category) --> Compare between category and with not extracted data in the same category\n",
    "- Distribution salesRank of extracted data (best per category, mean, proportion of 10% first, 20%first etc...) --> Compare between category and with not extracted data in the same category\n",
    "\n",
    "- __Keywords__ : How to efficiently implement the selection of related data ? Currently with a list of key words, can use regexp, better writing of keywords etc.. ?\n",
    "\n",
    "- Associate Metadata with Reviews : __Join__\n",
    "> - Extract year of 1st review (which will give the publication year of the product -approximately-)\n",
    "> - Histograms number of extracted products per year \n",
    "> - Histograms number of extracted reviews per year\n",
    "> - Nb of reviews per product per category --> Distribution, compare between categories and with not extracted data to see if reviewers are more inerested/active with our thema products compared to others\n",
    "> - Helplful note : Compare between categories / Overall\n",
    "> - Mean rating product : Compare with other products\n",
    "\n",
    "\n",
    "- __Prediction__\n",
    "> - Nb of products for following years (Linear Regression)\n",
    "> - Sentiment Analysis on Reviews (Experiment ?)\n",
    "> - Prediction overall on price for following years ? (LR)\n",
    "\n"
   ]
  },
  {
   "cell_type": "code",
   "execution_count": 3,
   "metadata": {},
   "outputs": [],
   "source": [
    "DATA_DIR = 'data/'"
   ]
  },
  {
   "cell_type": "code",
   "execution_count": 22,
   "metadata": {},
   "outputs": [],
   "source": [
    "sc.setLogLevel(\"WARN\")"
   ]
  },
  {
   "cell_type": "code",
   "execution_count": 23,
   "metadata": {},
   "outputs": [],
   "source": [
    "keywords = [\"global warming\", \"solar energy\", \"recycling\", \"pollution\", \"solar power\", \"endangered species\", \"air pollution\", \\\n",
    "\"water pollution\", \"wind energy\", \"climate change\", \"wind power\", \"recycle\", \"deforestation\", \"greenhouse effect\", \"environment\", \\\n",
    "\"sustainability \", \"natural resources\", \"alternative energy\", \"climate\", \"global warming\", \"renewable energy\", \"ecology\", \"composting\", \\\n",
    "\"carbon footprint\", \"bio\", \"biosphere\", \"renewable\", \"natural resources\", \"ecotourism\"]"
   ]
  },
  {
   "cell_type": "markdown",
   "metadata": {},
   "source": [
    "> __SAMPLE WITH THE CATEGORY home and kitchen METADATA__\n",
    "\n",
    "Download the meta_Home_and_Kitchen.json file"
   ]
  },
  {
   "cell_type": "code",
   "execution_count": 4,
   "metadata": {},
   "outputs": [],
   "source": [
    "meta_products = spark.read.json(DATA_DIR+\"meta_Home_and_Kitchen.json\")"
   ]
  },
  {
   "cell_type": "code",
   "execution_count": 5,
   "metadata": {},
   "outputs": [
    {
     "name": "stdout",
     "output_type": "stream",
     "text": [
      "root\n",
      " |-- _corrupt_record: string (nullable = true)\n",
      " |-- asin: string (nullable = true)\n",
      " |-- brand: string (nullable = true)\n",
      " |-- categories: array (nullable = true)\n",
      " |    |-- element: array (containsNull = true)\n",
      " |    |    |-- element: string (containsNull = true)\n",
      " |-- description: string (nullable = true)\n",
      " |-- imUrl: string (nullable = true)\n",
      " |-- price: double (nullable = true)\n",
      " |-- related: struct (nullable = true)\n",
      " |    |-- also_bought: array (nullable = true)\n",
      " |    |    |-- element: string (containsNull = true)\n",
      " |    |-- also_viewed: array (nullable = true)\n",
      " |    |    |-- element: string (containsNull = true)\n",
      " |    |-- bought_together: array (nullable = true)\n",
      " |    |    |-- element: string (containsNull = true)\n",
      " |    |-- buy_after_viewing: array (nullable = true)\n",
      " |    |    |-- element: string (containsNull = true)\n",
      " |-- salesRank: struct (nullable = true)\n",
      " |    |-- Appliances: long (nullable = true)\n",
      " |    |-- Arts, Crafts & Sewing: long (nullable = true)\n",
      " |    |-- Automotive: long (nullable = true)\n",
      " |    |-- Baby: long (nullable = true)\n",
      " |    |-- Beauty: long (nullable = true)\n",
      " |    |-- Books: long (nullable = true)\n",
      " |    |-- Camera &amp; Photo: long (nullable = true)\n",
      " |    |-- Cell Phones & Accessories: long (nullable = true)\n",
      " |    |-- Clothing: long (nullable = true)\n",
      " |    |-- Computers & Accessories: long (nullable = true)\n",
      " |    |-- Electronics: long (nullable = true)\n",
      " |    |-- Grocery & Gourmet Food: long (nullable = true)\n",
      " |    |-- Health & Personal Care: long (nullable = true)\n",
      " |    |-- Home &amp; Kitchen: long (nullable = true)\n",
      " |    |-- Home Improvement: long (nullable = true)\n",
      " |    |-- Industrial & Scientific: long (nullable = true)\n",
      " |    |-- Jewelry: long (nullable = true)\n",
      " |    |-- Kitchen & Dining: long (nullable = true)\n",
      " |    |-- Musical Instruments: long (nullable = true)\n",
      " |    |-- Office Products: long (nullable = true)\n",
      " |    |-- Patio, Lawn & Garden: long (nullable = true)\n",
      " |    |-- Pet Supplies: long (nullable = true)\n",
      " |    |-- Shoes: long (nullable = true)\n",
      " |    |-- Software: long (nullable = true)\n",
      " |    |-- Sports &amp; Outdoors: long (nullable = true)\n",
      " |    |-- Toys & Games: long (nullable = true)\n",
      " |    |-- Video Games: long (nullable = true)\n",
      " |    |-- Watches: long (nullable = true)\n",
      " |-- title: string (nullable = true)\n",
      "\n"
     ]
    }
   ],
   "source": [
    "meta_products.printSchema()"
   ]
  },
  {
   "cell_type": "code",
   "execution_count": 6,
   "metadata": {},
   "outputs": [],
   "source": [
    "# This will extract only the features and turn them into more readable features.\n",
    "# Filter salesRank = None because this will lead to problems for the writing in parquet\n",
    "# Features removed : corruptRecord, imURL, related\n",
    "data = meta_products.rdd.flatMap(lambda r: [(r[1], r[2], r[3], r[4], r[6],r[9])])"
   ]
  },
  {
   "cell_type": "code",
   "execution_count": 7,
   "metadata": {},
   "outputs": [],
   "source": [
    "# Define the StructType to define the DataFrame that we'll create with the previously extracted rdd table\n",
    "schema = StructType([\n",
    "    StructField(\"asin\", StringType(), True),\n",
    "    StructField(\"brand\", StringType(), True),\n",
    "    StructField(\"category\", StringType(), True),\n",
    "    StructField(\"description\", StringType(), True),\n",
    "    StructField(\"price\", FloatType(), True),\n",
    "    #StructField(\"salesRank\", StringType(), True),\n",
    "    StructField(\"title\", StringType(), True)\n",
    "])"
   ]
  },
  {
   "cell_type": "code",
   "execution_count": 8,
   "metadata": {},
   "outputs": [],
   "source": [
    "# Transform the RDD data into DataFrame (we'll then be able to store it in Parquet)\n",
    "df = spark.createDataFrame(data, schema=schema)"
   ]
  },
  {
   "cell_type": "code",
   "execution_count": 9,
   "metadata": {},
   "outputs": [
    {
     "name": "stdout",
     "output_type": "stream",
     "text": [
      "+----------+----------------+--------------------+--------------------+-----+--------------------+\n",
      "|      asin|           brand|            category|         description|price|               title|\n",
      "+----------+----------------+--------------------+--------------------+-----+--------------------+\n",
      "|0076144011|            null|  [[Home & Kitchen]]|                null| null|Ninjas, Piranhas,...|\n",
      "|0130350591|            null|[[Home & Kitchen,...|Each piece of Le ...| null|Le Creuset Kiwi (...|\n",
      "|0307394530|    Random House|[[Home & Kitchen,...|Of all the decisi...|14.99|Martha Stewart's ...|\n",
      "|0439903491|            null|[[Home & Kitchen,...|Shiver me timbers...|29.99|                null|\n",
      "|0578060604|            null|[[Home & Kitchen,...|The Maloofinspire...| null|Build A Maloof In...|\n",
      "|0587234792|            null|[[Home & Kitchen,...|Photographer: Unk...| null|&quot;Coos Bay Li...|\n",
      "|0587010584|            null|[[Home & Kitchen,...|This image is one...|16.95|Marionette Theate...|\n",
      "|      null|            null|                null|                null| null|                null|\n",
      "|0587218959|      Buyenlarge|[[Home & Kitchen,...|Fashion plates of...|11.88|Look Pretty Have ...|\n",
      "|0587217189|      Buyenlarge|[[Home & Kitchen,...|Philip Hartley Mc...|16.95|The Great McEwen,...|\n",
      "|0594006112|            null|[[Home & Kitchen,...|The Elf on the Sh...| null|Elf on the Shelf ...|\n",
      "|0594519624|            null|[[Home & Kitchen,...|                null| null|Peace and Flowers...|\n",
      "|061533301X|            null|[[Home & Kitchen,...|Unbelievable scub...| null|There's a Cockroa...|\n",
      "|0615391206|            Zoku|[[Home & Kitchen,...|This book will he...|17.29|Zoku Quick Pops R...|\n",
      "|0618307354|Houghton Mifflin|[[Home & Kitchen,...|                    |  9.3|Houghton-Mifflin ...|\n",
      "|0641929307|            null|[[Home & Kitchen,...|Sip in style with...| null|Vera Bradley Blue...|\n",
      "|0641965974|            null|[[Home & Kitchen,...|100% satisfaction...| null|Text Me Coffee Mu...|\n",
      "|      null|            null|                null|                null| null|                null|\n",
      "|0641967969|         Unknown|[[Home & Kitchen,...|Delicate cherry b...|51.89|6 pc Japanese Lar...|\n",
      "|      null|            null|                null|                null| null|                null|\n",
      "+----------+----------------+--------------------+--------------------+-----+--------------------+\n",
      "only showing top 20 rows\n",
      "\n"
     ]
    }
   ],
   "source": [
    "df.show()"
   ]
  },
  {
   "cell_type": "code",
   "execution_count": 10,
   "metadata": {},
   "outputs": [],
   "source": [
    "#Save into parquet to save time in the next times\n",
    "#df.write.mode('overwrite').parquet(\"meta_HomeKitchen.parquet\")"
   ]
  },
  {
   "cell_type": "code",
   "execution_count": 11,
   "metadata": {},
   "outputs": [],
   "source": [
    "# Read from the parquet data\n",
    "df = spark.read.parquet(\"meta_HomeKitchen.parquet\")"
   ]
  },
  {
   "cell_type": "code",
   "execution_count": 12,
   "metadata": {},
   "outputs": [
    {
     "name": "stdout",
     "output_type": "stream",
     "text": [
      "(436988, 6)\n"
     ]
    }
   ],
   "source": [
    "print((df.count(), len(df.columns)))"
   ]
  },
  {
   "cell_type": "markdown",
   "metadata": {},
   "source": [
    "Actully there are 436 988 home and kitchen products. As we can see above, some of them as null in. We will remove them because we will not be able to merde them with their respective reviews at the next step"
   ]
  },
  {
   "cell_type": "code",
   "execution_count": 17,
   "metadata": {},
   "outputs": [],
   "source": [
    "df = df.where(col(\"asin\").isNotNull())"
   ]
  },
  {
   "cell_type": "code",
   "execution_count": 18,
   "metadata": {},
   "outputs": [
    {
     "name": "stdout",
     "output_type": "stream",
     "text": [
      "(354563, 6)\n"
     ]
    }
   ],
   "source": [
    "print((df.count(), len(df.columns)))"
   ]
  },
  {
   "cell_type": "markdown",
   "metadata": {},
   "source": [
    "So we remove around 50 000 products. Next step is to filter them by our theme."
   ]
  },
  {
   "cell_type": "code",
   "execution_count": 44,
   "metadata": {},
   "outputs": [
    {
     "name": "stdout",
     "output_type": "stream",
     "text": [
      "+----------+------------+--------------------+--------------------+-----+--------------------+\n",
      "|      asin|       brand|            category|         description|price|               title|\n",
      "+----------+------------+--------------------+--------------------+-----+--------------------+\n",
      "|0076144011|        null|  [[Home & Kitchen]]|                null| null|Ninjas, Piranhas,...|\n",
      "|0130350591|        null|[[Home & Kitchen,...|Each piece of Le ...| null|Le Creuset Kiwi (...|\n",
      "|0307394530|Random House|[[Home & Kitchen,...|Of all the decisi...|14.99|Martha Stewart's ...|\n",
      "|0439903491|        null|[[Home & Kitchen,...|Shiver me timbers...|29.99|                null|\n",
      "|0578060604|        null|[[Home & Kitchen,...|The Maloofinspire...| null|Build A Maloof In...|\n",
      "+----------+------------+--------------------+--------------------+-----+--------------------+\n",
      "only showing top 5 rows\n",
      "\n"
     ]
    }
   ],
   "source": [
    "df.show(5)"
   ]
  },
  {
   "cell_type": "markdown",
   "metadata": {},
   "source": [
    "Some description are null which cannot help us in identifiying ecological products, so we also remove them"
   ]
  },
  {
   "cell_type": "code",
   "execution_count": 87,
   "metadata": {},
   "outputs": [],
   "source": [
    "df_filter = df.where(col(\"description\").isNotNull())"
   ]
  },
  {
   "cell_type": "code",
   "execution_count": 88,
   "metadata": {
    "scrolled": true
   },
   "outputs": [
    {
     "name": "stdout",
     "output_type": "stream",
     "text": [
      "Number of data samples related to ecology : 323368\n"
     ]
    }
   ],
   "source": [
    "print(\"Number of data samples related to ecology : \" + str(df_filter.count()))"
   ]
  },
  {
   "cell_type": "code",
   "execution_count": 89,
   "metadata": {},
   "outputs": [
    {
     "name": "stdout",
     "output_type": "stream",
     "text": [
      "+----------+------------+--------------------+--------------------+-----+--------------------+\n",
      "|      asin|       brand|            category|         description|price|               title|\n",
      "+----------+------------+--------------------+--------------------+-----+--------------------+\n",
      "|0130350591|        null|[[Home & Kitchen,...|Each piece of Le ...| null|Le Creuset Kiwi (...|\n",
      "|0307394530|Random House|[[Home & Kitchen,...|Of all the decisi...|14.99|Martha Stewart's ...|\n",
      "|0439903491|        null|[[Home & Kitchen,...|Shiver me timbers...|29.99|                null|\n",
      "|0578060604|        null|[[Home & Kitchen,...|The Maloofinspire...| null|Build A Maloof In...|\n",
      "|0587234792|        null|[[Home & Kitchen,...|Photographer: Unk...| null|&quot;Coos Bay Li...|\n",
      "+----------+------------+--------------------+--------------------+-----+--------------------+\n",
      "only showing top 5 rows\n",
      "\n"
     ]
    }
   ],
   "source": [
    "df_filter.show(5)"
   ]
  },
  {
   "cell_type": "code",
   "execution_count": 91,
   "metadata": {},
   "outputs": [],
   "source": [
    "# Look if the categories, description or title can match with keywords\n",
    "eco_items = df_filter.rdd.filter(lambda r: (any(word in r[3].lower() for word in keywords))) \n",
    "                                    #(any(word in r[3].lower() for word in keywords)))\n",
    "                                    #(any(word in r[5].lower() for word in keywords)))"
   ]
  },
  {
   "cell_type": "code",
   "execution_count": 95,
   "metadata": {},
   "outputs": [
    {
     "name": "stdout",
     "output_type": "stream",
     "text": [
      "Number of data samples related to ecology : 10586\n",
      "Propotion of items related to ecology : 3.27\n"
     ]
    }
   ],
   "source": [
    "print(\"Number of data samples related to ecology : \" + str(eco_items.count()))\n",
    "print(\"Propotion of items related to ecology : %.2f\" % (100*eco_items.count()/df_filter.count() ))"
   ]
  },
  {
   "cell_type": "code",
   "execution_count": 98,
   "metadata": {},
   "outputs": [],
   "source": [
    "eco_items = spark.createDataFrame(eco_items, schema=schema)"
   ]
  },
  {
   "cell_type": "code",
   "execution_count": 100,
   "metadata": {},
   "outputs": [
    {
     "name": "stdout",
     "output_type": "stream",
     "text": [
      "+----------+-------------+--------------------+--------------------+-----+--------------------+\n",
      "|      asin|        brand|            category|         description|price|               title|\n",
      "+----------+-------------+--------------------+--------------------+-----+--------------------+\n",
      "|1223070743|       Vandor|[[Home & Kitchen,...|For more than 50-...| 2.95|Vandor 52423 Star...|\n",
      "|6151000064|         null|[[Home & Kitchen,...|They work well, a...| null|Winnie the Pooh S...|\n",
      "|7509004195|         null|[[Home & Kitchen,...|Keep everyone in ...|34.99|Tupperware Insula...|\n",
      "|9178894395|KALAS Tumbler|[[Home & Kitchen,...|Article Number:: ...| 5.72|IKEA - KALAS Tumb...|\n",
      "|B0000223B7|        Delta|[[Home & Kitchen,...|The DELTA 50-859 ...|38.33|DELTA 50-859 3-Po...|\n",
      "|B0000224FK|         null|[[Home & Kitchen,...|The new quiet 'St...| null|Universal 350,000...|\n",
      "|B00002N8D6|         null|[[Home & Kitchen,...|Deep cleans, brig...|135.0|Hoover Steam Vac ...|\n",
      "|B00004RBRT|         null|[[Home & Kitchen,...|BP5153 Features: ...|32.02|Mundial 5100 Seri...|\n",
      "|B00004RFK9|         null|[[Home & Kitchen,...|A colander drains...| null|Farberware Classi...|\n",
      "|B00004RGAW|         null|[[Home & Kitchen,...|This impressive a...| null|DeLonghi D895UX C...|\n",
      "+----------+-------------+--------------------+--------------------+-----+--------------------+\n",
      "only showing top 10 rows\n",
      "\n"
     ]
    }
   ],
   "source": [
    "eco_items.show(10)"
   ]
  },
  {
   "cell_type": "markdown",
   "metadata": {},
   "source": [
    "<h2> Reviews </h2>\n",
    "Now let us have a look on reviews of all this products. We load the reviews data"
   ]
  },
  {
   "cell_type": "code",
   "execution_count": 105,
   "metadata": {},
   "outputs": [],
   "source": [
    "reviews = spark.read.json(DATA_DIR+\"reviews_Home_and_Kitchen.json\")"
   ]
  },
  {
   "cell_type": "code",
   "execution_count": 106,
   "metadata": {},
   "outputs": [
    {
     "name": "stdout",
     "output_type": "stream",
     "text": [
      "root\n",
      " |-- asin: string (nullable = true)\n",
      " |-- helpful: array (nullable = true)\n",
      " |    |-- element: long (containsNull = true)\n",
      " |-- overall: double (nullable = true)\n",
      " |-- reviewText: string (nullable = true)\n",
      " |-- reviewTime: string (nullable = true)\n",
      " |-- reviewerID: string (nullable = true)\n",
      " |-- reviewerName: string (nullable = true)\n",
      " |-- summary: string (nullable = true)\n",
      " |-- unixReviewTime: long (nullable = true)\n",
      "\n"
     ]
    }
   ],
   "source": [
    "reviews.printSchema()"
   ]
  },
  {
   "cell_type": "code",
   "execution_count": 107,
   "metadata": {},
   "outputs": [],
   "source": [
    "#reviews.write.mode('overwrite').parquet(\"reviews_Home_and_Kitchen.parquet\")"
   ]
  },
  {
   "cell_type": "code",
   "execution_count": 108,
   "metadata": {},
   "outputs": [],
   "source": [
    "reviews = spark.read.parquet(\"reviews_Home_and_Kitchen.parquet\")"
   ]
  },
  {
   "cell_type": "code",
   "execution_count": 109,
   "metadata": {},
   "outputs": [
    {
     "name": "stdout",
     "output_type": "stream",
     "text": [
      "Number of reviews : 4253926\n"
     ]
    }
   ],
   "source": [
    "print(\"Number of reviews : \" + str(reviews.rdd.count()))"
   ]
  },
  {
   "cell_type": "code",
   "execution_count": 111,
   "metadata": {
    "scrolled": true
   },
   "outputs": [
    {
     "name": "stdout",
     "output_type": "stream",
     "text": [
      "+----------+--------+-------+--------------------+-----------+--------------+--------------------+--------------------+--------------+\n",
      "|      asin| helpful|overall|          reviewText| reviewTime|    reviewerID|        reviewerName|             summary|unixReviewTime|\n",
      "+----------+--------+-------+--------------------+-----------+--------------+--------------------+--------------------+--------------+\n",
      "|0076144011|  [0, 0]|    4.0|Have you ever tho...| 10 4, 2012|A210NOCSTBT4OD|              Sheila|              Lovely|    1349308800|\n",
      "|0130350591|  [0, 0]|    5.0|The butter dish i...|03 22, 2011|A28ILV4TOG8BH2|            ccjensen|Nice looking, and...|    1300752000|\n",
      "|0307394530|[11, 16]|    2.0|I anxiously waite...|06 30, 2008|A31B4D7URW4DNZ|              3Gigi3| Mother of the Bride|    1214784000|\n",
      "|0307394530|  [0, 0]|    5.0|Fantastic book, a...|06 24, 2010|A2HU0RPDRZZOP1|      Alexey Leontev|        amazing book|    1277337600|\n",
      "|0307394530|  [0, 0]|    5.0|Can't wait to try...|02 23, 2014| A7J0XOW7DYBBD|   Allan Mar Cariaso|        Very helpful|    1393113600|\n",
      "|0307394530|  [0, 0]|    5.0|I've been on the ...|08 12, 2008| A9QY9F2Y7KDFW|Amazon Customer \"...|    One in a million|    1218499200|\n",
      "|0307394530|  [0, 0]|    5.0|I was so happy wi...| 02 9, 2009|A2MGJ4CELCSG10|         Amber Owens|Pleased beyond my...|    1234137600|\n",
      "|0307394530|  [0, 0]|    5.0|I really like thi...|02 16, 2010|A1S0DWONNWB8NH|       Amy L. Depree|Martha Stewarts W...|    1266278400|\n",
      "+----------+--------+-------+--------------------+-----------+--------------+--------------------+--------------------+--------------+\n",
      "only showing top 8 rows\n",
      "\n"
     ]
    }
   ],
   "source": [
    "reviews.show(8)"
   ]
  },
  {
   "cell_type": "markdown",
   "metadata": {},
   "source": [
    "__Join Reviews and Metadata__ \n",
    "\n",
    "We will now join the metadata and review dataset using the product ID. Then we'll have the reviews for all products concerned. Here we will join with the filtered data containing the products related to the thema 'bio,recycle,ecology' etc... \n",
    "\n",
    "Then in each row we will have the product description and the reviews associated"
   ]
  },
  {
   "cell_type": "code",
   "execution_count": 110,
   "metadata": {},
   "outputs": [],
   "source": [
    "review_product_join = eco_items.join(reviews, ['asin'])"
   ]
  },
  {
   "cell_type": "code",
   "execution_count": 112,
   "metadata": {},
   "outputs": [
    {
     "name": "stdout",
     "output_type": "stream",
     "text": [
      "Number of reviews related to eco items : 124459\n"
     ]
    }
   ],
   "source": [
    "print(\"Number of reviews related to eco items : \" + str(review_product_join.rdd.count()) )"
   ]
  },
  {
   "cell_type": "code",
   "execution_count": 113,
   "metadata": {},
   "outputs": [],
   "source": [
    "# This function return the first reviews per ebooks. Because we do not have the time of the ebook publication.\n",
    "def minUnixTime(accum, n):\n",
    "    if(accum < n):\n",
    "        return accum\n",
    "    else:\n",
    "        return n"
   ]
  },
  {
   "cell_type": "code",
   "execution_count": 116,
   "metadata": {},
   "outputs": [],
   "source": [
    "eco_item_first_review = review_product_join.groupBy(\"asin\").agg(sqlf.min(\"unixReviewTime\"))"
   ]
  },
  {
   "cell_type": "code",
   "execution_count": 117,
   "metadata": {},
   "outputs": [],
   "source": [
    "eco_item_first_review = eco_item_first_review.toPandas()"
   ]
  },
  {
   "cell_type": "code",
   "execution_count": 118,
   "metadata": {},
   "outputs": [],
   "source": [
    "eco_item_first_review['Year'] = pd.to_datetime(eco_item_first_review['min(unixReviewTime)'],unit='s') \\\n",
    "                                  .map(lambda x: x.year)"
   ]
  },
  {
   "cell_type": "code",
   "execution_count": 120,
   "metadata": {},
   "outputs": [
    {
     "data": {
      "text/plain": [
       "array([[<matplotlib.axes._subplots.AxesSubplot object at 0x11181d710>]],\n",
       "      dtype=object)"
      ]
     },
     "execution_count": 120,
     "metadata": {},
     "output_type": "execute_result"
    },
    {
     "data": {
      "image/png": "[encoded data removed]",
      "text/plain": [
       "<Figure size 432x288 with 1 Axes>"
      ]
     },
     "metadata": {},
     "output_type": "display_data"
    }
   ],
   "source": [
    "eco_item_first_review.hist(\"Year\", color=\"lime\", log=True,bins=15)"
   ]
  },
  {
   "cell_type": "code",
   "execution_count": 124,
   "metadata": {},
   "outputs": [],
   "source": [
    "# Group by item id and keep the first review\n",
    "all_item_first_review = reviews.groupBy(\"asin\").agg(sqlf.min(\"unixReviewTime\"))\n",
    "\n",
    "# Convert into panda df\n",
    "all_item_first_review = all_item_first_review.toPandas()\n",
    "\n",
    "# Find the year of the review\n",
    "all_item_first_review['Year'] = pd.to_datetime(all_item_first_review['min(unixReviewTime)'],unit='s').map(lambda x: x.year)"
   ]
  },
  {
   "cell_type": "code",
   "execution_count": 125,
   "metadata": {},
   "outputs": [
    {
     "data": {
      "text/plain": [
       "array([[<matplotlib.axes._subplots.AxesSubplot object at 0x111810438>]],\n",
       "      dtype=object)"
      ]
     },
     "execution_count": 125,
     "metadata": {},
     "output_type": "execute_result"
    },
    {
     "data": {
      "image/png": "[encoded data removed]",
      "text/plain": [
       "<Figure size 432x288 with 1 Axes>"
      ]
     },
     "metadata": {},
     "output_type": "display_data"
    }
   ],
   "source": [
    "all_item_first_review.hist(\"Year\", log=True, color=\"sienna\", bins = 15)"
   ]
  },
  {
   "cell_type": "code",
   "execution_count": 122,
   "metadata": {},
   "outputs": [],
   "source": []
  },
  {
   "cell_type": "code",
   "execution_count": null,
   "metadata": {},
   "outputs": [],
   "source": []
  }
 ],
 "metadata": {
  "kernelspec": {
   "display_name": "Python [default]",
   "language": "python",
   "name": "python3"
  },
  "language_info": {
   "codemirror_mode": {
    "name": "ipython",
    "version": 3
   },
   "file_extension": ".py",
   "mimetype": "text/x-python",
   "name": "python",
   "nbconvert_exporter": "python",
   "pygments_lexer": "ipython3",
   "version": "3.6.5"
  }
 },
 "nbformat": 4,
 "nbformat_minor": 2
}
