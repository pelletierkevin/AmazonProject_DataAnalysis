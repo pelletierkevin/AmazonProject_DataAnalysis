{
 "cells": [
  {
   "cell_type": "markdown",
   "metadata": {},
   "source": [
    "<h3>Import</h3>"
   ]
  },
  {
   "cell_type": "code",
   "execution_count": 1,
   "metadata": {},
   "outputs": [],
   "source": [
    "import pandas as pd\n",
    "import numpy as np\n",
    "import scipy as sp\n",
    "\n",
    "import matplotlib.pyplot as plt\n",
    "\n",
    "from datetime import datetime\n",
    "\n",
    "%matplotlib inline"
   ]
  },
  {
   "cell_type": "code",
   "execution_count": 2,
   "metadata": {},
   "outputs": [],
   "source": [
    "import findspark\n",
    "findspark.init()\n",
    "import pyspark\n",
    "\n",
    "from pyspark.sql.types import DateType\n",
    "from pyspark.sql.types import TimestampType\n",
    "from pyspark.sql.functions import *\n",
    "import pyspark.sql.functions as fn\n",
    "import pyspark.sql.functions as sqlf\n",
    "from pyspark.sql import Window\n",
    "from pyspark.sql.types import *\n",
    "from pyspark.sql import *\n",
    "from pyspark.sql import SQLContext\n",
    "\n",
    "spark = SparkSession.builder.getOrCreate()\n",
    "sc = spark.sparkContext\n",
    "sqlContext = SQLContext(sc)"
   ]
  },
  {
   "cell_type": "markdown",
   "metadata": {},
   "source": [
    "<h2>Data Collection</h2>\n",
    "\n",
    "Amazon Data : Collection/Analysis of data from Amazon (Reviews and Metadata of products) associated to the thema : ecology, bio, renewable etc... (see keywords vector)\n",
    "\n",
    "In this notebook we are going to dwell on amazon Kindle Store. Amazon Kindle devices enable users to browse, buy, download, and read e-books, newspapers, magazines and other digital media. \n",
    "\n",
    "__Review data__ : \n",
    "\n",
    "\n",
    "Features:\n",
    "\n",
    "- reviewerID - ID of the reviewer, e.g. A2SUAM1J3GNN3B\n",
    "- asin - ID of the product, e.g. 0000013714\n",
    "- reviewerName - name of the reviewer\n",
    "- helpful - helpfulness rating of the review, e.g. 2/3\n",
    "- reviewText - text of the review\n",
    "- overall - rating of the product\n",
    "- summary - summary of the review\n",
    "- unixReviewTime - time of the review (unix time)\n",
    "- reviewTime - time of the review (raw)\n",
    "\n",
    "__Metadata (Product)__ : \n",
    "Contains the list of all products\n",
    "\n",
    "Features:\n",
    "\n",
    "- asin - ID of the product, e.g. 0000031852\n",
    "- title - name of the product\n",
    "- price - price in US dollars (at time of crawl)\n",
    "- imUrl - url of the product image\n",
    "- related - related products (also bought, also viewed, bought together, buy after viewing)\n",
    "- salesRank - sales rank information\n",
    "- brand - brand name\n",
    "- categories - list of categories the product belongs to"
   ]
  },
  {
   "cell_type": "code",
   "execution_count": 3,
   "metadata": {},
   "outputs": [],
   "source": [
    "DATA_DIR = 'data/'"
   ]
  },
  {
   "cell_type": "code",
   "execution_count": 4,
   "metadata": {},
   "outputs": [
    {
     "name": "stdout",
     "output_type": "stream",
     "text": [
      "meta_Home_and_Kitchen.json              reviews_Home_and_Kitchen.json\r\n",
      "meta_Kindle_Store.json                  reviews_Kindle_Store.json\r\n",
      "meta_Movies_and_TV.json                 reviews_Movies_and_TV.json\r\n",
      "meta_Tools_and_Home_Improvement.json    reviews_Tools_and_Home_Improvement.json\r\n"
     ]
    }
   ],
   "source": [
    "!ls data"
   ]
  },
  {
   "cell_type": "code",
   "execution_count": 5,
   "metadata": {},
   "outputs": [],
   "source": [
    "keywords = [\"global warming\", \"solar energy\", \"recycling\", \"pollution\", \"solar power\", \"endangered species\", \"air pollution\", \\\n",
    "\"water pollution\", \"wind energy\", \"climate change\", \"wind power\", \"recycle\", \"deforestation\", \"greenhouse effect\", \"environment\", \\\n",
    "\"sustainability \", \"natural resources\", \"alternative energy\", \"climate\", \"global warming\", \"renewable energy\", \"ecology\", \"composting\", \\\n",
    "\"carbon footprint\", \"bio\", \"biosphere\", \"renewable\", \"natural resources\", \"ecotourism\"]\n"
   ]
  },
  {
   "cell_type": "code",
   "execution_count": 6,
   "metadata": {},
   "outputs": [],
   "source": [
    "meta_products = spark.read.json(DATA_DIR+\"meta_Kindle_Store.json\")"
   ]
  },
  {
   "cell_type": "code",
   "execution_count": 7,
   "metadata": {
    "scrolled": true
   },
   "outputs": [
    {
     "data": {
      "text/plain": [
       "[('_corrupt_record', 'string'),\n",
       " ('asin', 'string'),\n",
       " ('brand', 'string'),\n",
       " ('categories', 'array<array<string>>'),\n",
       " ('description', 'string'),\n",
       " ('imUrl', 'string'),\n",
       " ('price', 'double'),\n",
       " ('related',\n",
       "  'struct<also_bought:array<string>,also_viewed:array<string>,bought_together:array<string>,buy_after_viewing:array<string>>'),\n",
       " ('salesRank', 'struct<Cell Phones & Accessories:bigint,Clothing:bigint>'),\n",
       " ('title', 'string')]"
      ]
     },
     "execution_count": 7,
     "metadata": {},
     "output_type": "execute_result"
    }
   ],
   "source": [
    "meta_products.dtypes"
   ]
  },
  {
   "cell_type": "code",
   "execution_count": 8,
   "metadata": {},
   "outputs": [
    {
     "name": "stdout",
     "output_type": "stream",
     "text": [
      "(434702, 10)\n"
     ]
    }
   ],
   "source": [
    "print((meta_products.count(), len(meta_products.columns)))"
   ]
  },
  {
   "cell_type": "markdown",
   "metadata": {},
   "source": [
    "The there are actually 434 702 ebooks with 10 features"
   ]
  },
  {
   "cell_type": "code",
   "execution_count": 9,
   "metadata": {},
   "outputs": [
    {
     "data": {
      "text/plain": [
       "[Row(_corrupt_record=None, asin='1603420304', brand=None, categories=[['Books', 'Cookbooks, Food & Wine', 'Quick & Easy'], ['Books', 'Cookbooks, Food & Wine', 'Special Diet'], ['Books', 'Cookbooks, Food & Wine', 'Vegetarian & Vegan', 'Non-Vegan Vegetarian'], ['Kindle Store', 'Kindle eBooks', 'Cookbooks, Food & Wine', 'Quick & Easy'], ['Kindle Store', 'Kindle eBooks', 'Cookbooks, Food & Wine', 'Special Diet', 'Healthy'], ['Kindle Store', 'Kindle eBooks', 'Cookbooks, Food & Wine', 'Vegetables & Vegetarian']], description=\"In less time and for less money than it takes to order pizza, you can make it yourself!Three harried but heatlh-conscious college students compiled and tested this collection of more than 200 tasty, hearty, inexpensive recipes anyone can cook -- yes, anyone!Whether you're short on cash, fearful of fat, counting your calories, or just miss home cooking, The Healthy College Cookbook offers everything you need to make good food yourself.\", imUrl='http://ecx.images-amazon.com/images/I/51IEqPrF%2B9L._BO2,204,203,200_PIsitb-sticker-v3-big,TopRight,0,-55_SX278_SY278_PIkin4,BottomRight,1,22_AA300_SH20_OU01_.jpg', price=7.69, related=Row(also_bought=None, also_viewed=['B001OLRKLQ', 'B004J35JIC', 'B00505UP8M', 'B004GTLKEQ', 'B005KWMS8U', 'B00BS03TYU', 'B001MT5NXW', 'B00A86JE3K', 'B00D694Y9U', 'B00DSVUVXY', 'B008EN3W6Y', 'B00BS03W5Q', 'B008161J1O', 'B0089LOJH2', 'B00ENSBJYQ', 'B00C7C040U', 'B00DH410VY', 'B00CMVFW4O', 'B00C89GS1Q', 'B0035FZJ9Y', 'B004GTLFUK', 'B00H24WT2E', 'B00CVS44OW', 'B00C5W32QK', 'B00HY0KTPK', 'B00BJ8IPJU', 'B00JEOMV1E', 'B0041KKLNQ', 'B00CVS2JYY', 'B00CTVOVD0', 'B00ET594CC'], bought_together=None, buy_after_viewing=['B004J35JIC', 'B0089LOJH2']), salesRank=None, title=None)]"
      ]
     },
     "execution_count": 9,
     "metadata": {},
     "output_type": "execute_result"
    }
   ],
   "source": [
    "meta_products.take(1)"
   ]
  },
  {
   "cell_type": "markdown",
   "metadata": {},
   "source": [
    "These are the IDs for each feature in order to extract them in some filtering/flatmap functions with spark\n",
    "\n",
    "Example: lambda r: r[0], r[1] etc...\n",
    "\n",
    "- _ _corrupt__record 0\n",
    "- asin 1\n",
    "- brand 2\n",
    "- categories 3\n",
    "- description 4\n",
    "- imUrl 5\n",
    "- price 6 \n",
    "- related 7 \n",
    "- salesRank 8\n",
    "- title 9"
   ]
  },
  {
   "cell_type": "code",
   "execution_count": 10,
   "metadata": {},
   "outputs": [],
   "source": [
    "# We only select usefull features   \n",
    "data_cleaned = meta_products.rdd.flatMap(lambda r: [(r[1], r[2], r[3], r[4], r[6], r[9])])"
   ]
  },
  {
   "cell_type": "code",
   "execution_count": 11,
   "metadata": {},
   "outputs": [],
   "source": [
    "schema = StructType([\n",
    "    StructField(\"asin\", StringType(), True),\n",
    "    StructField(\"brand\", StringType(), True),\n",
    "    StructField(\"category\", StringType(), True),\n",
    "    StructField(\"description\", StringType(), True),\n",
    "    StructField(\"price\", FloatType(), True),\n",
    "    #StructField(\"salesRank\", IntegerType(), True),\n",
    "    #StructField(\"salesRank\", StringType(), True),\n",
    "    StructField(\"title\", StringType(), True)\n",
    "])"
   ]
  },
  {
   "cell_type": "code",
   "execution_count": 12,
   "metadata": {},
   "outputs": [],
   "source": [
    "# Transform the RDD data into DataFrame (we'll then be able to store it in Parquet)\n",
    "datacleaned_DF = spark.createDataFrame(data_cleaned, schema=schema)"
   ]
  },
  {
   "cell_type": "code",
   "execution_count": 13,
   "metadata": {
    "scrolled": true
   },
   "outputs": [
    {
     "name": "stdout",
     "output_type": "stream",
     "text": [
      "+----------+-----+--------------------+--------------------+-----+--------------------+\n",
      "|      asin|brand|            category|         description|price|               title|\n",
      "+----------+-----+--------------------+--------------------+-----+--------------------+\n",
      "|1603420304| null|[[Books, Cookbook...|In less time and ...| 7.69|                null|\n",
      "|B0002IQ15S| null|[[Kindle Store, K...|This universal DC...|19.99|Mobility IGO AUTO...|\n",
      "|B000F83SZQ| null|[[Books, Literatu...|                null|  0.0|                null|\n",
      "|B000F83TEQ| null|[[Books, Literatu...|                null| null|                null|\n",
      "|B000F83STC| null|[[Books, Literatu...|                null| null|                null|\n",
      "|B000FA5RE4| null|[[Books, Referenc...|Updated 2003 vers...| 1.99|                null|\n",
      "|B000FA5NSO| null|[[Books, Literatu...|                null| null|                null|\n",
      "|B000FA5UXC| null|[[Books, Literatu...|Madoc Tamlin is a...| null|                null|\n",
      "|B000FA5T4W| null|[[Books, Business...|                null|12.46|                null|\n",
      "|B000FA5SHK| null|[[Books, Science ...|                null| null|                null|\n",
      "+----------+-----+--------------------+--------------------+-----+--------------------+\n",
      "only showing top 10 rows\n",
      "\n"
     ]
    }
   ],
   "source": [
    "# Example of the cleaned data (and association with the created StrucType schema)\n",
    "datacleaned_DF.show(10)"
   ]
  },
  {
   "cell_type": "code",
   "execution_count": 14,
   "metadata": {},
   "outputs": [],
   "source": [
    "#Save into parquet to save time in the next times\n",
    "#datacleaned_DF.write.mode('overwrite').parquet(\"meta_KindleStore.parquet\")"
   ]
  },
  {
   "cell_type": "code",
   "execution_count": 15,
   "metadata": {},
   "outputs": [],
   "source": [
    "# Read from the parquet data\n",
    "datacleaned_DF = spark.read.parquet(\"meta_KindleStore.parquet\")"
   ]
  },
  {
   "cell_type": "markdown",
   "metadata": {},
   "source": [
    "At this step we can see that there are some ebooks with price null (We can assume that they are free). But some of them also have either no title or description. To work with usefull data, we are going to remove ebooks with price, description and title with null values."
   ]
  },
  {
   "cell_type": "code",
   "execution_count": 16,
   "metadata": {
    "scrolled": true
   },
   "outputs": [],
   "source": [
    "# Filter how many of then have non null description, price or title\n",
    "dropNullDescription = datacleaned_DF.where(col(\"description\").isNotNull())\n",
    "dropNullPrice = datacleaned_DF.where(col(\"price\").isNotNull())\n",
    "dropNullTitle = datacleaned_DF.where(col(\"title\").isNotNull())"
   ]
  },
  {
   "cell_type": "code",
   "execution_count": 17,
   "metadata": {},
   "outputs": [
    {
     "name": "stdout",
     "output_type": "stream",
     "text": [
      "+----------+-------------+--------------------+--------------------+-----+--------------------+\n",
      "|      asin|        brand|            category|         description|price|               title|\n",
      "+----------+-------------+--------------------+--------------------+-----+--------------------+\n",
      "|B0002IQ15S|         null|[[Kindle Store, K...|This universal DC...|19.99|Mobility IGO AUTO...|\n",
      "|B000PI17MM|Think Outside|[[Cell Phones & A...|Keep all your gad...|29.99|iGo EverywhereUni...|\n",
      "|B000QSPO3Y|         null|[[Cell Phones & A...|FITS SPRINT DEVIC...| 6.56|iGo Power Tip for...|\n",
      "|B00115PYGS|         null|[[Kindle Store, K...|Custom designed t...|19.95|Car Charger for t...|\n",
      "|B001SPTFAM|         null|[[Kindle Store, K...|With its small; l...|19.95|Rapid Wall Home A...|\n",
      "|B001SPVISE|         null|[[Kindle Store, K...|Let us face it. T...|24.55|Advanced Amazon K...|\n",
      "+----------+-------------+--------------------+--------------------+-----+--------------------+\n",
      "only showing top 6 rows\n",
      "\n"
     ]
    }
   ],
   "source": [
    "dropNullTitle.show(6)"
   ]
  },
  {
   "cell_type": "code",
   "execution_count": 18,
   "metadata": {},
   "outputs": [
    {
     "name": "stdout",
     "output_type": "stream",
     "text": [
      "Non null description : 92645\n",
      "Non null price : 266612\n",
      "Non null titles : 35\n"
     ]
    }
   ],
   "source": [
    "print(\"Non null description : \" + str(dropNullDescription.rdd.count()) )\n",
    "print(\"Non null price : \" + str(dropNullPrice.rdd.count()) )\n",
    "print(\"Non null titles : \" + str(dropNullTitle.rdd.count()) )"
   ]
  },
  {
   "cell_type": "markdown",
   "metadata": {},
   "source": [
    "So we can see above that a lot of ebooks do not have titles (only 35 have). So it not relevant at all to removes ebooks with no titles.  \n",
    "\n",
    "Then, from 432 000 ebooks, only 266 612 have no null prices (indeed not free), as we assume null prices as free. Indeed, we check on amazon and some kindle ebooks can be free (https://www.amazon.fr/Trois-secondes-Kane-Banway-ebook/dp/B00ZL1BH4Q/ref=sr_1_1?ie=UTF8&qid=1543067864&sr=8-1&keywords=kindle+gratuit)\n",
    "\n",
    "And only 92 000 of them have a description. Finally it reduces a lot our dataset to filter by those features but if we want to find those which are links to climate change, we need description.\n",
    "As the data can be old (May 1996 - July 2014) and kindle books are not very popular (created in 2007), it may not be fully filled and this is why we are missing informations.\n",
    "Finally we decide to keep the whole dataset and see what we can filter from it."
   ]
  },
  {
   "cell_type": "markdown",
   "metadata": {},
   "source": [
    "We will now extract the data related to our thema : Ecology, Bio, Renewable etc...\n",
    "We will filter by keyword found in the desciption of each."
   ]
  },
  {
   "cell_type": "code",
   "execution_count": 19,
   "metadata": {},
   "outputs": [],
   "source": [
    "# We filter ebooks by categories and description which contain words in keyword list\n",
    "filter_products_bio = dropNullDescription.rdd.filter(lambda r: (any(word in r[2].lower() for word in keywords)) | (any(word in r[3].lower() for word in keywords)) )"
   ]
  },
  {
   "cell_type": "code",
   "execution_count": 20,
   "metadata": {
    "scrolled": true
   },
   "outputs": [
    {
     "name": "stdout",
     "output_type": "stream",
     "text": [
      "Number of data samples related to ecology/bio/renewable etc... : 9238\n"
     ]
    }
   ],
   "source": [
    "print(\"Number of data samples related to ecology/bio/renewable etc... : \" + str(filter_products_bio.count()))"
   ]
  },
  {
   "cell_type": "code",
   "execution_count": 21,
   "metadata": {
    "scrolled": true
   },
   "outputs": [
    {
     "name": "stdout",
     "output_type": "stream",
     "text": [
      "+----------+-----+--------------------+--------------------+-----+-----+\n",
      "|      asin|brand|            category|         description|price|title|\n",
      "+----------+-----+--------------------+--------------------+-----+-----+\n",
      "|B000FA64FA| null|[[Books, Business...|'Orams is in an e...|10.89| null|\n",
      "|B000FA5XF2| null|[[Books, Christia...|This pithy overvi...| 9.01| null|\n",
      "|B000FBFCNE| null|[[Books, Arts & P...|One of the few ge...|12.77| null|\n",
      "|B000FBFCCA| null|[[Books, Biograph...|Although 91 years...|14.93| null|\n",
      "|B000FC0TZO| null|[[Books, Biograph...|Composed of eight...| null| null|\n",
      "|B000FC0QF2| null|[[Books, Biograph...|Library JournalA ...|12.99| null|\n",
      "|B000FC0U80| null|[[Books, Biograph...|Mention the word ...| 4.99| null|\n",
      "|B000FC0PNU| null|[[Books, Arts & P...|Nancy Krulikis th...| null| null|\n",
      "|B000FC1B1K| null|[[Books, Children...|Gr. 8-10. Taylor,...| null| null|\n",
      "|B000FC0TWM| null|[[Books, Biograph...|The commencement ...| null| null|\n",
      "|B000FC10PC| null|[[Books, Biograph...|&#x201c;Shockingl...|14.21| null|\n",
      "|B000FC1KKW| null|[[Books, Business...|In this breakthro...| null| null|\n",
      "|B000FC24HK| null|[[Books, Literatu...|More e-Books from...|  0.0| null|\n",
      "|B000FC1I1S| null|[[Books, Biograph...|&#x22;The three m...| null| null|\n",
      "|B000FC1ZTS| null|[[Books, Biograph...|Peter Hathaway Ca...|  0.0| null|\n",
      "|B000FC1V1U| null|[[Books, Politics...|&#x201c;Nepotism ...| null| null|\n",
      "|B000FC29IE| null|[[Books, Biograph...|With his warm, af...| 8.89| null|\n",
      "|B000FC2K7Y| null|[[Books, Literatu...|&#x22;This book i...| 0.99| null|\n",
      "|B000FC2QBO| null|[[Books, Literatu...|What differentiat...| 5.99| null|\n",
      "|B000FCJZPO| null|[[Books, Biograph...|&#x22;You're a su...| null| null|\n",
      "+----------+-----+--------------------+--------------------+-----+-----+\n",
      "only showing top 20 rows\n",
      "\n"
     ]
    }
   ],
   "source": [
    "bio_ebooks = spark.createDataFrame(filter_products_bio, schema=schema)\n",
    "bio_ebooks.show(10)"
   ]
  },
  {
   "cell_type": "markdown",
   "metadata": {},
   "source": [
    "SAMPLE WITH THE KINDLE STORE CARE REVIEWS"
   ]
  },
  {
   "cell_type": "code",
   "execution_count": 22,
   "metadata": {},
   "outputs": [],
   "source": [
    "reviews = spark.read.json(DATA_DIR+\"reviews_Kindle_Store.json\")"
   ]
  },
  {
   "cell_type": "code",
   "execution_count": 23,
   "metadata": {},
   "outputs": [
    {
     "data": {
      "text/plain": [
       "[Row(asin='1603420304', helpful=[0, 0], overall=4.0, reviewText=\"I am well out of college but love this book.  I am always on the go and don't have a lot of time to plan menu's or shop for recipes during the week.  This has a ton of classic, yummy and EASY (did I say EASY!) recipes.  A lot of the times I can use staples from my pantry and just pick up a handful of items.  And it's great for singles/couples.\", reviewTime='07 13, 2014', reviewerID='A2GZ9GFZV1LWB0', reviewerName=None, summary='Good solid recipes', unixReviewTime=1405209600)]"
      ]
     },
     "execution_count": 23,
     "metadata": {},
     "output_type": "execute_result"
    }
   ],
   "source": [
    "# To see an example of the data\n",
    "reviews.take(1)"
   ]
  },
  {
   "cell_type": "code",
   "execution_count": 24,
   "metadata": {},
   "outputs": [
    {
     "data": {
      "text/plain": [
       "[('asin', 'string'),\n",
       " ('helpful', 'array<bigint>'),\n",
       " ('overall', 'double'),\n",
       " ('reviewText', 'string'),\n",
       " ('reviewTime', 'string'),\n",
       " ('reviewerID', 'string'),\n",
       " ('reviewerName', 'string'),\n",
       " ('summary', 'string'),\n",
       " ('unixReviewTime', 'bigint')]"
      ]
     },
     "execution_count": 24,
     "metadata": {},
     "output_type": "execute_result"
    }
   ],
   "source": [
    "reviews.dtypes"
   ]
  },
  {
   "cell_type": "markdown",
   "metadata": {},
   "source": [
    "These are the IDs for each feature in order to extract them in some filtering/flatmap functions with spark\n",
    "\n",
    "- asin 0\n",
    "- helpful 1\n",
    "- overall 2\n",
    "- reviewText 3\n",
    "- reviewTime 4\n",
    "- reviewerID 5\n",
    "- reviewerName 6 \n",
    "- summary 7 \n",
    "- unixReviewTime 8"
   ]
  },
  {
   "cell_type": "code",
   "execution_count": 25,
   "metadata": {},
   "outputs": [],
   "source": [
    "#Save into parquet to save time in the next times\n",
    "#reviews.write.mode('overwrite').parquet(\"reviews_PatioLawnGarden.parquet\")"
   ]
  },
  {
   "cell_type": "code",
   "execution_count": 26,
   "metadata": {},
   "outputs": [],
   "source": [
    "# Read from the parquet data\n",
    "reviews = spark.read.parquet(\"reviews_PatioLawnGarden.parquet\")"
   ]
  },
  {
   "cell_type": "code",
   "execution_count": 27,
   "metadata": {},
   "outputs": [
    {
     "name": "stdout",
     "output_type": "stream",
     "text": [
      "Number of reviews : 3205467\n"
     ]
    }
   ],
   "source": [
    "print(\"Number of reviews : \" + str(reviews.rdd.count()) )"
   ]
  },
  {
   "cell_type": "markdown",
   "metadata": {},
   "source": [
    "__Join Reviews and Metadata__ \n",
    "\n",
    "We will now join the metadata and review dataset using the product ID. Then we'll have the reviews for all products concerned. Here we will join with the filtered data containing the products related to the thema 'bio,recycle,ecology' etc... \n",
    "\n",
    "Then in each row we will have the product description and the reviews associated"
   ]
  },
  {
   "cell_type": "code",
   "execution_count": 28,
   "metadata": {},
   "outputs": [],
   "source": [
    "# This way allows no duplicate\n",
    "review_product_join = bio_ebooks.join(reviews, ['asin'])"
   ]
  },
  {
   "cell_type": "code",
   "execution_count": 29,
   "metadata": {},
   "outputs": [
    {
     "name": "stdout",
     "output_type": "stream",
     "text": [
      "Number of reviews related to bio/renewable/ecology etc... : 49944\n"
     ]
    }
   ],
   "source": [
    "print(\"Number of reviews related to bio/renewable/ecology etc... : \" + str(review_product_join.rdd.count()) )"
   ]
  },
  {
   "cell_type": "code",
   "execution_count": 30,
   "metadata": {},
   "outputs": [],
   "source": [
    "# This function return the first reviews per ebooks. Because we do not have the time of the ebook publication.\n",
    "def minUnixTime(accum, n):\n",
    "    if(accum < n):\n",
    "        return accum\n",
    "    else:\n",
    "        return n"
   ]
  },
  {
   "cell_type": "code",
   "execution_count": 31,
   "metadata": {},
   "outputs": [],
   "source": [
    "first_review = review_product_join.groupBy(\"asin\").agg(sqlf.min(\"unixReviewTime\"))"
   ]
  },
  {
   "cell_type": "code",
   "execution_count": 32,
   "metadata": {},
   "outputs": [],
   "source": [
    "year_reviews_Pandas = first_review.toPandas()"
   ]
  },
  {
   "cell_type": "code",
   "execution_count": 33,
   "metadata": {},
   "outputs": [],
   "source": [
    "year_reviews_Pandas['Year'] = pd.to_datetime(year_reviews_Pandas['min(unixReviewTime)'],unit='s').map(lambda x: x.year)"
   ]
  },
  {
   "cell_type": "code",
   "execution_count": 34,
   "metadata": {
    "scrolled": true
   },
   "outputs": [
    {
     "data": {
      "text/html": [
       "<div>\n",
       "<style scoped>\n",
       "    .dataframe tbody tr th:only-of-type {\n",
       "        vertical-align: middle;\n",
       "    }\n",
       "\n",
       "    .dataframe tbody tr th {\n",
       "        vertical-align: top;\n",
       "    }\n",
       "\n",
       "    .dataframe thead th {\n",
       "        text-align: right;\n",
       "    }\n",
       "</style>\n",
       "<table border=\"1\" class=\"dataframe\">\n",
       "  <thead>\n",
       "    <tr style=\"text-align: right;\">\n",
       "      <th></th>\n",
       "      <th>min(unixReviewTime)</th>\n",
       "      <th>Year</th>\n",
       "    </tr>\n",
       "  </thead>\n",
       "  <tbody>\n",
       "    <tr>\n",
       "      <th>count</th>\n",
       "      <td>9.182000e+03</td>\n",
       "      <td>9182.00000</td>\n",
       "    </tr>\n",
       "    <tr>\n",
       "      <th>mean</th>\n",
       "      <td>1.356935e+09</td>\n",
       "      <td>2012.52897</td>\n",
       "    </tr>\n",
       "    <tr>\n",
       "      <th>std</th>\n",
       "      <td>4.189293e+07</td>\n",
       "      <td>1.37381</td>\n",
       "    </tr>\n",
       "    <tr>\n",
       "      <th>min</th>\n",
       "      <td>9.510912e+08</td>\n",
       "      <td>2000.00000</td>\n",
       "    </tr>\n",
       "    <tr>\n",
       "      <th>25%</th>\n",
       "      <td>1.342850e+09</td>\n",
       "      <td>2012.00000</td>\n",
       "    </tr>\n",
       "    <tr>\n",
       "      <th>50%</th>\n",
       "      <td>1.364386e+09</td>\n",
       "      <td>2013.00000</td>\n",
       "    </tr>\n",
       "    <tr>\n",
       "      <th>75%</th>\n",
       "      <td>1.384819e+09</td>\n",
       "      <td>2013.00000</td>\n",
       "    </tr>\n",
       "    <tr>\n",
       "      <th>max</th>\n",
       "      <td>1.406074e+09</td>\n",
       "      <td>2014.00000</td>\n",
       "    </tr>\n",
       "  </tbody>\n",
       "</table>\n",
       "</div>"
      ],
      "text/plain": [
       "       min(unixReviewTime)        Year\n",
       "count         9.182000e+03  9182.00000\n",
       "mean          1.356935e+09  2012.52897\n",
       "std           4.189293e+07     1.37381\n",
       "min           9.510912e+08  2000.00000\n",
       "25%           1.342850e+09  2012.00000\n",
       "50%           1.364386e+09  2013.00000\n",
       "75%           1.384819e+09  2013.00000\n",
       "max           1.406074e+09  2014.00000"
      ]
     },
     "execution_count": 34,
     "metadata": {},
     "output_type": "execute_result"
    }
   ],
   "source": [
    "year_reviews_Pandas.describe()"
   ]
  },
  {
   "cell_type": "markdown",
   "metadata": {},
   "source": [
    "What we can see is that the first year review in 2000. It is difficult to trust it because we said that kindle was first released in 2007. So we will remove reviews before 2007."
   ]
  },
  {
   "cell_type": "code",
   "execution_count": 35,
   "metadata": {},
   "outputs": [],
   "source": [
    "year_reviews_2007 = year_reviews_Pandas[year_reviews_Pandas['Year'] >= 2007]"
   ]
  },
  {
   "cell_type": "code",
   "execution_count": 36,
   "metadata": {
    "scrolled": true
   },
   "outputs": [
    {
     "data": {
      "text/plain": [
       "array([[<matplotlib.axes._subplots.AxesSubplot object at 0x110dc62b0>]],\n",
       "      dtype=object)"
      ]
     },
     "execution_count": 36,
     "metadata": {},
     "output_type": "execute_result"
    },
    {
     "data": {
      "image/png": "[encoded data removed]",
      "text/plain": [
       "<Figure size 432x288 with 1 Axes>"
      ]
     },
     "metadata": {},
     "output_type": "display_data"
    }
   ],
   "source": [
    "year_reviews_2007.hist(\"Year\", color=\"lime\", log=True,bins=15)"
   ]
  },
  {
   "cell_type": "markdown",
   "metadata": {},
   "source": [
    "Well it is difficult from this plot to say that the interest in climate change ebooks increase along the time. It is normal that there is no reviews in 2007 because this technologie was just released. But what we can do is to compare the all reviews on all ebooks."
   ]
  },
  {
   "cell_type": "code",
   "execution_count": 37,
   "metadata": {},
   "outputs": [],
   "source": [
    "globalfirstreview = reviews.groupBy(\"asin\").agg(sqlf.min(\"unixReviewTime\"))"
   ]
  },
  {
   "cell_type": "code",
   "execution_count": 38,
   "metadata": {},
   "outputs": [],
   "source": [
    "globalyear_reviews_Pandas = globalfirstreview.toPandas()"
   ]
  },
  {
   "cell_type": "code",
   "execution_count": 39,
   "metadata": {},
   "outputs": [],
   "source": [
    "globalyear_reviews_Pandas['Year'] = pd.to_datetime(globalyear_reviews_Pandas['min(unixReviewTime)'],unit='s').map(lambda x: x.year)"
   ]
  },
  {
   "cell_type": "code",
   "execution_count": 40,
   "metadata": {},
   "outputs": [],
   "source": [
    "first_reviews_2007 = globalyear_reviews_Pandas[globalyear_reviews_Pandas['Year'] >= 2007]"
   ]
  },
  {
   "cell_type": "code",
   "execution_count": 41,
   "metadata": {},
   "outputs": [
    {
     "data": {
      "text/plain": [
       "array([[<matplotlib.axes._subplots.AxesSubplot object at 0x11b6aa828>]],\n",
       "      dtype=object)"
      ]
     },
     "execution_count": 41,
     "metadata": {},
     "output_type": "execute_result"
    },
    {
     "data": {
      "image/png": "[encoded data removed]",
      "text/plain": [
       "<Figure size 432x288 with 1 Axes>"
      ]
     },
     "metadata": {},
     "output_type": "display_data"
    }
   ],
   "source": [
    "first_reviews_2007.hist(\"Year\", log=True, color=\"sienna\", bins = 15)"
   ]
  },
  {
   "cell_type": "markdown",
   "metadata": {},
   "source": [
    "So what we can say is that the ecologic ebooks reviews follow the same trend as all others ebooks. There is nothing very relevant to say more."
   ]
  },
  {
   "cell_type": "markdown",
   "metadata": {},
   "source": [
    "__Grade Comparison__\n",
    "As we cannot extract a trend from the reviews per year, maybe some others features can help such as the overall grade"
   ]
  },
  {
   "cell_type": "code",
   "execution_count": 62,
   "metadata": {},
   "outputs": [],
   "source": [
    "overall_reviews = review_product_join.groupBy(\"asin\").agg(sqlf.mean(\"overall\"))"
   ]
  },
  {
   "cell_type": "code",
   "execution_count": 63,
   "metadata": {},
   "outputs": [],
   "source": [
    "overall_reviews = overall_reviews.toPandas()"
   ]
  },
  {
   "cell_type": "code",
   "execution_count": 69,
   "metadata": {},
   "outputs": [
    {
     "data": {
      "text/html": [
       "<div>\n",
       "<style scoped>\n",
       "    .dataframe tbody tr th:only-of-type {\n",
       "        vertical-align: middle;\n",
       "    }\n",
       "\n",
       "    .dataframe tbody tr th {\n",
       "        vertical-align: top;\n",
       "    }\n",
       "\n",
       "    .dataframe thead th {\n",
       "        text-align: right;\n",
       "    }\n",
       "</style>\n",
       "<table border=\"1\" class=\"dataframe\">\n",
       "  <thead>\n",
       "    <tr style=\"text-align: right;\">\n",
       "      <th></th>\n",
       "      <th>asin</th>\n",
       "      <th>avg(overall)</th>\n",
       "    </tr>\n",
       "  </thead>\n",
       "  <tbody>\n",
       "    <tr>\n",
       "      <th>0</th>\n",
       "      <td>B000OI19AI</td>\n",
       "      <td>4.000000</td>\n",
       "    </tr>\n",
       "    <tr>\n",
       "      <th>1</th>\n",
       "      <td>B000PSJ8PK</td>\n",
       "      <td>5.000000</td>\n",
       "    </tr>\n",
       "    <tr>\n",
       "      <th>2</th>\n",
       "      <td>B001CKY85A</td>\n",
       "      <td>4.500000</td>\n",
       "    </tr>\n",
       "    <tr>\n",
       "      <th>3</th>\n",
       "      <td>B002V092GK</td>\n",
       "      <td>4.000000</td>\n",
       "    </tr>\n",
       "    <tr>\n",
       "      <th>4</th>\n",
       "      <td>B0033SA54W</td>\n",
       "      <td>4.333333</td>\n",
       "    </tr>\n",
       "    <tr>\n",
       "      <th>5</th>\n",
       "      <td>B0035LD84G</td>\n",
       "      <td>3.461538</td>\n",
       "    </tr>\n",
       "  </tbody>\n",
       "</table>\n",
       "</div>"
      ],
      "text/plain": [
       "         asin  avg(overall)\n",
       "0  B000OI19AI      4.000000\n",
       "1  B000PSJ8PK      5.000000\n",
       "2  B001CKY85A      4.500000\n",
       "3  B002V092GK      4.000000\n",
       "4  B0033SA54W      4.333333\n",
       "5  B0035LD84G      3.461538"
      ]
     },
     "execution_count": 69,
     "metadata": {},
     "output_type": "execute_result"
    }
   ],
   "source": [
    "overall_reviews.head(6)"
   ]
  },
  {
   "cell_type": "code",
   "execution_count": 120,
   "metadata": {
    "scrolled": true
   },
   "outputs": [
    {
     "data": {
      "text/html": [
       "<div>\n",
       "<style scoped>\n",
       "    .dataframe tbody tr th:only-of-type {\n",
       "        vertical-align: middle;\n",
       "    }\n",
       "\n",
       "    .dataframe tbody tr th {\n",
       "        vertical-align: top;\n",
       "    }\n",
       "\n",
       "    .dataframe thead th {\n",
       "        text-align: right;\n",
       "    }\n",
       "</style>\n",
       "<table border=\"1\" class=\"dataframe\">\n",
       "  <thead>\n",
       "    <tr style=\"text-align: right;\">\n",
       "      <th></th>\n",
       "      <th>avg(overall)</th>\n",
       "    </tr>\n",
       "  </thead>\n",
       "  <tbody>\n",
       "    <tr>\n",
       "      <th>count</th>\n",
       "      <td>9182.000000</td>\n",
       "    </tr>\n",
       "    <tr>\n",
       "      <th>mean</th>\n",
       "      <td>4.200662</td>\n",
       "    </tr>\n",
       "    <tr>\n",
       "      <th>std</th>\n",
       "      <td>0.978921</td>\n",
       "    </tr>\n",
       "    <tr>\n",
       "      <th>min</th>\n",
       "      <td>1.000000</td>\n",
       "    </tr>\n",
       "    <tr>\n",
       "      <th>25%</th>\n",
       "      <td>4.000000</td>\n",
       "    </tr>\n",
       "    <tr>\n",
       "      <th>50%</th>\n",
       "      <td>4.500000</td>\n",
       "    </tr>\n",
       "    <tr>\n",
       "      <th>75%</th>\n",
       "      <td>5.000000</td>\n",
       "    </tr>\n",
       "    <tr>\n",
       "      <th>max</th>\n",
       "      <td>5.000000</td>\n",
       "    </tr>\n",
       "  </tbody>\n",
       "</table>\n",
       "</div>"
      ],
      "text/plain": [
       "       avg(overall)\n",
       "count   9182.000000\n",
       "mean       4.200662\n",
       "std        0.978921\n",
       "min        1.000000\n",
       "25%        4.000000\n",
       "50%        4.500000\n",
       "75%        5.000000\n",
       "max        5.000000"
      ]
     },
     "execution_count": 120,
     "metadata": {},
     "output_type": "execute_result"
    }
   ],
   "source": [
    "overall_reviews.describe()"
   ]
  },
  {
   "cell_type": "code",
   "execution_count": 125,
   "metadata": {},
   "outputs": [],
   "source": [
    "global_overall_review = reviews.groupBy(\"asin\").agg(sqlf.mean(\"overall\"))"
   ]
  },
  {
   "cell_type": "code",
   "execution_count": 126,
   "metadata": {},
   "outputs": [],
   "source": [
    "global_overall_review =global_overall_review.toPandas()"
   ]
  },
  {
   "cell_type": "code",
   "execution_count": 128,
   "metadata": {
    "scrolled": true
   },
   "outputs": [
    {
     "data": {
      "text/html": [
       "<div>\n",
       "<style scoped>\n",
       "    .dataframe tbody tr th:only-of-type {\n",
       "        vertical-align: middle;\n",
       "    }\n",
       "\n",
       "    .dataframe tbody tr th {\n",
       "        vertical-align: top;\n",
       "    }\n",
       "\n",
       "    .dataframe thead th {\n",
       "        text-align: right;\n",
       "    }\n",
       "</style>\n",
       "<table border=\"1\" class=\"dataframe\">\n",
       "  <thead>\n",
       "    <tr style=\"text-align: right;\">\n",
       "      <th></th>\n",
       "      <th>avg(overall)</th>\n",
       "    </tr>\n",
       "  </thead>\n",
       "  <tbody>\n",
       "    <tr>\n",
       "      <th>count</th>\n",
       "      <td>430530.000000</td>\n",
       "    </tr>\n",
       "    <tr>\n",
       "      <th>mean</th>\n",
       "      <td>4.129801</td>\n",
       "    </tr>\n",
       "    <tr>\n",
       "      <th>std</th>\n",
       "      <td>1.024519</td>\n",
       "    </tr>\n",
       "    <tr>\n",
       "      <th>min</th>\n",
       "      <td>1.000000</td>\n",
       "    </tr>\n",
       "    <tr>\n",
       "      <th>25%</th>\n",
       "      <td>3.833333</td>\n",
       "    </tr>\n",
       "    <tr>\n",
       "      <th>50%</th>\n",
       "      <td>4.466667</td>\n",
       "    </tr>\n",
       "    <tr>\n",
       "      <th>75%</th>\n",
       "      <td>5.000000</td>\n",
       "    </tr>\n",
       "    <tr>\n",
       "      <th>max</th>\n",
       "      <td>5.000000</td>\n",
       "    </tr>\n",
       "  </tbody>\n",
       "</table>\n",
       "</div>"
      ],
      "text/plain": [
       "        avg(overall)\n",
       "count  430530.000000\n",
       "mean        4.129801\n",
       "std         1.024519\n",
       "min         1.000000\n",
       "25%         3.833333\n",
       "50%         4.466667\n",
       "75%         5.000000\n",
       "max         5.000000"
      ]
     },
     "execution_count": 128,
     "metadata": {},
     "output_type": "execute_result"
    }
   ],
   "source": [
    "global_overall_review.describe()"
   ]
  },
  {
   "cell_type": "markdown",
   "metadata": {},
   "source": [
    "Well a this step we are not goin further for kindle. Indeed, the lack of information (a lot a null) plus the fact that we do not really extract relevant behavior of ebook in climate change comparing to other makes think us that we might not dwell to long on this category.\n",
    "\n",
    "We might come back later on it after reviewing all others"
   ]
  }
 ],
 "metadata": {
  "kernelspec": {
   "display_name": "Python [conda env:anaconda3]",
   "language": "python",
   "name": "conda-env-anaconda3-py"
  },
  "language_info": {
   "codemirror_mode": {
    "name": "ipython",
    "version": 3
   },
   "file_extension": ".py",
   "mimetype": "text/x-python",
   "name": "python",
   "nbconvert_exporter": "python",
   "pygments_lexer": "ipython3",
   "version": "3.6.5"
  }
 },
 "nbformat": 4,
 "nbformat_minor": 2
}
